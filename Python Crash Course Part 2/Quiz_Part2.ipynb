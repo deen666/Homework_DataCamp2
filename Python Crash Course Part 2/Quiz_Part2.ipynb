{
  "nbformat": 4,
  "nbformat_minor": 0,
  "metadata": {
    "colab": {
      "name": "Quiz_Part2.ipynb",
      "provenance": [],
      "authorship_tag": "ABX9TyP0gHlXI1r3vlLLS8olf2NX"
    },
    "kernelspec": {
      "name": "python3",
      "display_name": "Python 3"
    }
  },
  "cells": [
    {
      "cell_type": "markdown",
      "metadata": {
        "id": "vgL29BZUjiQK",
        "colab_type": "text"
      },
      "source": [
        "**Quiz1**\n",
        "\n",
        "เขียนโปรแกรมรับ input จากผู้ใช้ 1 ตัว แปลงให้เป็น int และตรวจสอบว่าเป็นเลขคู่หรือเลขคี่ \n",
        "\n",
        "\t- หากเป็นเลขคู่ ให้พิมพ์ว่า เลขคู่\n",
        "\n",
        "\t- หากเป็นเลขคี่ ให้พิมพ์ว่า เลขคี่\n",
        "\n",
        "\t- หากเป็นเลขศูนย์ให้พิมพ์ว่า เลขศูนย์\n"
      ]
    },
    {
      "cell_type": "code",
      "metadata": {
        "id": "T36rBdtHFzNp",
        "colab_type": "code",
        "colab": {}
      },
      "source": [
        "#TEST Quiz1\n",
        "\"\"\"\n",
        "if (chk_num % 2) == 0:  \n",
        "   print(\"{} is Even number\".format(chk_num))  \n",
        "elif (chk_num % 2) != 0:\n",
        "   print(\"{} is Odd number\".format(chk_num))  \n",
        "else:\n",
        "   print(\"{} is Zero\".format(chk_num))  \n",
        "\"\"\""
      ],
      "execution_count": 0,
      "outputs": []
    },
    {
      "cell_type": "code",
      "metadata": {
        "id": "9w1qpFsSyEyB",
        "colab_type": "code",
        "colab": {
          "base_uri": "https://localhost:8080/",
          "height": 51
        },
        "outputId": "85d5b35b-929a-41bc-beae-c7ac69005f75"
      },
      "source": [
        "#Quiz 1\n",
        "\n",
        "chk_num = int(input(\"What's a number? \"))\n",
        "\n",
        "if chk_num != 0 and (chk_num % 2) == 0:  \n",
        "   print(\"{} is Even number\".format(chk_num))  \n",
        "elif chk_num % 2 == 0:\n",
        "   print(\"{} is Zero\".format(chk_num))  \n",
        "else:\n",
        "   print(\"{} is Odd number\".format(chk_num))  \n"
      ],
      "execution_count": 32,
      "outputs": [
        {
          "output_type": "stream",
          "text": [
            "What's a number? 2\n",
            "2 is Even number\n"
          ],
          "name": "stdout"
        }
      ]
    },
    {
      "cell_type": "markdown",
      "metadata": {
        "id": "pI-AXJ_Xo9CX",
        "colab_type": "text"
      },
      "source": [
        "**Quiz2**\n",
        "\n",
        "เขียนโปรแกรมรับค่า input 2 ตัว ในรูปแบบ float โดยให้ตัวแรกเป็นตัวตั้ง ตัวที่สองเป็นตัวหาร\n",
        "\n",
        "\t- หาผลลัพธ์ของการหาร\n",
        "\n",
        "\t- ใส่เลขทศนิยมได้\n",
        "\n",
        "\t- ถ้าตัวหารเป็น 0 ให้รับค่าใหม่จนกว่าจะเป็นเลขที่หารได้  \n"
      ]
    },
    {
      "cell_type": "code",
      "metadata": {
        "id": "eSKF5k_cpIPG",
        "colab_type": "code",
        "colab": {
          "base_uri": "https://localhost:8080/",
          "height": 119
        },
        "outputId": "c2cb52fc-2e13-4a46-e8fb-b009a2984eda"
      },
      "source": [
        "#Quiz 2\n",
        "\n",
        "num1 = float(input(\"Enter a number1 \"))\n",
        "num2 = float(input(\"Enter a number2 \"))\n",
        "\n",
        "while num2 == 0:\n",
        "    num2 = float(input(\"The number2 must not use zero.\\nPlease enter number2 again!\\n\"))\n",
        "\n",
        "result = num1 / num2\n",
        "print(float(result))\n",
        "\n"
      ],
      "execution_count": 76,
      "outputs": [
        {
          "output_type": "stream",
          "text": [
            "Enter a number1 66.6\n",
            "Enter a number2 0\n",
            "The number2 must not use Zero.\n",
            "Please enter number2 again!\n",
            "1\n",
            "66.6\n"
          ],
          "name": "stdout"
        }
      ]
    },
    {
      "cell_type": "markdown",
      "metadata": {
        "id": "oxzv6dKjviNj",
        "colab_type": "text"
      },
      "source": [
        "**Quiz3**\n",
        "\n",
        "เขียนโปรแกรม infinity while loop โดยรับค่า input มาเรื่อยๆ จนกว่าผู้ใช้จะใส่เลข 0 และนำเลขทั้งหมดมาหาค่าเฉลี่ย"
      ]
    },
    {
      "cell_type": "code",
      "metadata": {
        "id": "0ueRnKHtvyOZ",
        "colab_type": "code",
        "colab": {
          "base_uri": "https://localhost:8080/",
          "height": 136
        },
        "outputId": "d59dae01-8c21-4ecf-9f57-fb008d0af310"
      },
      "source": [
        "#Quiz 3\n",
        "\n",
        "\n",
        "x = float(input('Enter a number to find avg: '))\n",
        "count = 0\n",
        "total = x\n",
        "\n",
        "while x != 0 :\n",
        "    x = float(input('Add a number or Enter 0 to stop '))\n",
        "    total += x\n",
        "    count += 1\n",
        "    #print(total)\n",
        "    #print(count)\n",
        "print('Average is : ',total/count)\n"
      ],
      "execution_count": 77,
      "outputs": [
        {
          "output_type": "stream",
          "text": [
            "Enter a number to find avg: 1\n",
            "Add a number or Enter 0 to stop 2\n",
            "Add a number or Enter 0 to stop 3\n",
            "Add a number or Enter 0 to stop 4\n",
            "Add a number or Enter 0 to stop 5\n",
            "Add a number or Enter 0 to stop 0\n",
            "Average is :  3.0\n"
          ],
          "name": "stdout"
        }
      ]
    },
    {
      "cell_type": "markdown",
      "metadata": {
        "id": "9Duj1zpnS-U8",
        "colab_type": "text"
      },
      "source": [
        "**Quiz4**\n",
        "\n",
        "เขียนโปรมแกรมรับค่า input ที่เป็น integer มาหนึ่งตัว ตรวจสอบว่าเลขนั้นหาร 7 ลงตัวหรือไม่\n",
        "\n",
        "\t- ถ้าหารลงตัว ให้ปริ้น ‘หาร 7 ลงตัว’\n",
        "\n",
        "\t - ถ้าหารไม่ลงตัว ให้ปริ้น ‘หาร 7 ไม่ลงตัว’\n"
      ]
    },
    {
      "cell_type": "code",
      "metadata": {
        "id": "5J1dSx6yTHZT",
        "colab_type": "code",
        "colab": {
          "base_uri": "https://localhost:8080/",
          "height": 85
        },
        "outputId": "2b82c58d-2e1f-4264-d030-4436b302fb8f"
      },
      "source": [
        "#Quiz4\n",
        "\n",
        "chk_num = int(input(\"Please enter a number,\\nTo determine if a number is divisible by 7\\n\"))\n",
        "\n",
        "if (chk_num % 7) == 0:  \n",
        "   print(\"The number {} is divisible by 7\".format(chk_num))  \n",
        "else:\n",
        "   print(\"The number {} is not divisible by 7\".format(chk_num))  "
      ],
      "execution_count": 80,
      "outputs": [
        {
          "output_type": "stream",
          "text": [
            "Please enter a number,\n",
            "To determine if a number is divisible by 7\n",
            "21\n",
            "The number 21 is divisible by 7\n"
          ],
          "name": "stdout"
        }
      ]
    },
    {
      "cell_type": "code",
      "metadata": {
        "id": "LwCUGiNhVStZ",
        "colab_type": "code",
        "colab": {
          "base_uri": "https://localhost:8080/",
          "height": 136
        },
        "outputId": "8fa1cf18-ac78-4ee3-fb18-fd727c5e41fa"
      },
      "source": [
        "x = int(input(\"Please enter a number,\\nTo determine if a number is divisible by 7\\n\"))\n",
        "\n",
        "while (x % 7) != 0 :\n",
        "    print(\"The number {} is not divisible by 7\".format(x))  \n",
        "    x = int(input('Please re-enter a number is divisible by 7 \\n'))\n",
        "\n",
        "print(\"The number {} is divisible by 7\".format(x))  \n"
      ],
      "execution_count": 86,
      "outputs": [
        {
          "output_type": "stream",
          "text": [
            "Please enter a number,\n",
            "To determine if a number is divisible by 7\n",
            "66\n",
            "The number 66 is not divisible by 7\n",
            "Please re-enter a number is divisible by 7 \n",
            "77\n",
            "The number 77 is divisible by 7\n"
          ],
          "name": "stdout"
        }
      ]
    },
    {
      "cell_type": "markdown",
      "metadata": {
        "id": "7-PnScuQYTJT",
        "colab_type": "text"
      },
      "source": [
        "**Quiz5**\n",
        "\n",
        "เขียนโปรแกรมรับค่า int มา 3 จำนวน และตรวจสอบว่า 3 เลขนั้นสามารถนำมาสร้าง 3 เหลี่ยมมุมฉากได้หรือไม่"
      ]
    },
    {
      "cell_type": "markdown",
      "metadata": {
        "id": "4gasZ24ngCyX",
        "colab_type": "text"
      },
      "source": [
        "*Note :*\n",
        "\n",
        "\n",
        "*The basic triangle inequality is a<b+c, b<c+a, c<a+b*\n",
        "\n",
        "*If a2 + b2 > c2, then it is acute triangle.*\n",
        "\n",
        "*If a2 + b2 = c2, then it is right triangle.*\n",
        "\n",
        "*If a2 + b2 < c2, then it is obtuse triangle. *\n",
        "\n",
        "[List_of_triangle_inequalities](https://en.wikipedia.org/wiki/List_of_triangle_inequalities)\n",
        "\n"
      ]
    },
    {
      "cell_type": "code",
      "metadata": {
        "id": "hF8MuFrxYZ4f",
        "colab_type": "code",
        "colab": {
          "base_uri": "https://localhost:8080/",
          "height": 102
        },
        "outputId": "0b48b179-4aac-47d8-9dd5-4f284da6ebc8"
      },
      "source": [
        "#Quiz5   \n",
        "\n",
        "print('Input three integers for sides of a triangle')\n",
        "a = int(input('side a: '))\n",
        "b = int(input('side b: '))\n",
        "c = int(input('side c: '))\n",
        "\n",
        "if a**2 + b**2 == c**2:\n",
        "    print('It\\'s a Right triangle')\n",
        "else:\n",
        "    print('No')"
      ],
      "execution_count": 91,
      "outputs": [
        {
          "output_type": "stream",
          "text": [
            "Input three integers for sides of a triangle\n",
            "side a: 3\n",
            "side b: 4\n",
            "side c: 5\n",
            "It's a Right triangle\n"
          ],
          "name": "stdout"
        }
      ]
    },
    {
      "cell_type": "markdown",
      "metadata": {
        "id": "QJNHeRrLc_pk",
        "colab_type": "text"
      },
      "source": [
        "**Quiz6**\n",
        "\n",
        "เขียนโปรแกรมรับค่า int มา 3 จำนวน และตรวจสอบว่าเมื่อนำ 3 เลขนั้นมาสร้าง 3 เหลี่ยม จะได้สามเหลี่ยมแบบใด\n",
        "\t\n",
        "\t- สามเหลี่ยมมุมแหลม\n",
        "\n",
        "\t- สามเหลี่ยมมุมป้าน\n",
        "\n",
        "\t- สามเหลี่ยมมุมฉาก\n"
      ]
    },
    {
      "cell_type": "code",
      "metadata": {
        "id": "5KuzAsfmdEIP",
        "colab_type": "code",
        "colab": {
          "base_uri": "https://localhost:8080/",
          "height": 119
        },
        "outputId": "830fc705-fa24-4fd7-8a9b-bfdcaef58863"
      },
      "source": [
        "#Quiz6\n",
        "print('Input three integers for sides of a triangle.,\\nTo determine a types of triangles')\n",
        "a = int(input('side a: '))\n",
        "b = int(input('side b: '))\n",
        "c = int(input('side c: '))\n",
        "\n",
        "if a < (b+c) and b < (c+a) and c < (a+b):\n",
        "  if a**2 + b**2 == c**2:\n",
        "    print('It\\'s a Right triangle')\n",
        "  elif a**2+b**2 > c**2:\n",
        "    print('It\\'s a Acute triangle')\n",
        "  elif a**2 + b**2 < c**2:\n",
        "    print('It\\'s a Obtuse triangle')\n",
        "else:\n",
        "  print('Not in types')"
      ],
      "execution_count": 98,
      "outputs": [
        {
          "output_type": "stream",
          "text": [
            "Input three integers for sides of a triangle.,\n",
            "To determine a types of triangles\n",
            "side a: 3\n",
            "side b: 4\n",
            "side c: 5\n",
            "It's a Right triangle\n"
          ],
          "name": "stdout"
        }
      ]
    },
    {
      "cell_type": "markdown",
      "metadata": {
        "id": "ceulnr9mih8e",
        "colab_type": "text"
      },
      "source": [
        "**Quiz7**"
      ]
    },
    {
      "cell_type": "code",
      "metadata": {
        "id": "oU5tyQkLikx-",
        "colab_type": "code",
        "colab": {}
      },
      "source": [
        ""
      ],
      "execution_count": 0,
      "outputs": []
    }
  ]
}