{
  "nbformat": 4,
  "nbformat_minor": 0,
  "metadata": {
    "colab": {
      "name": "Quiz_Part2.ipynb",
      "provenance": [],
      "authorship_tag": "ABX9TyNH2V6f88G6BsSnLxvp2fEI"
    },
    "kernelspec": {
      "name": "python3",
      "display_name": "Python 3"
    }
  },
  "cells": [
    {
      "cell_type": "markdown",
      "metadata": {
        "id": "vgL29BZUjiQK",
        "colab_type": "text"
      },
      "source": [
        "**Quiz1**\n",
        "\n",
        "เขียนโปรแกรมรับ input จากผู้ใช้ 1 ตัว แปลงให้เป็น int และตรวจสอบว่าเป็นเลขคู่หรือเลขคี่ \n",
        "\n",
        "\t- หากเป็นเลขคู่ ให้พิมพ์ว่า เลขคู่\n",
        "\n",
        "\t- หากเป็นเลขคี่ ให้พิมพ์ว่า เลขคี่\n",
        "\n",
        "\t- หากเป็นเลขศูนย์ให้พิมพ์ว่า เลขศูนย์\n"
      ]
    },
    {
      "cell_type": "code",
      "metadata": {
        "id": "T36rBdtHFzNp",
        "colab_type": "code",
        "colab": {}
      },
      "source": [
        "#TEST Quiz1\n",
        "\"\"\"\n",
        "if (chk_num % 2) == 0:  \n",
        "   print(\"{} is Even number\".format(chk_num))  \n",
        "elif (chk_num % 2) != 0:\n",
        "   print(\"{} is Odd number\".format(chk_num))  \n",
        "else:\n",
        "   print(\"{} is Zero\".format(chk_num))  \n",
        "\"\"\""
      ],
      "execution_count": 0,
      "outputs": []
    },
    {
      "cell_type": "code",
      "metadata": {
        "id": "9w1qpFsSyEyB",
        "colab_type": "code",
        "outputId": "85d5b35b-929a-41bc-beae-c7ac69005f75",
        "colab": {
          "base_uri": "https://localhost:8080/",
          "height": 51
        }
      },
      "source": [
        "#Quiz 1\n",
        "\n",
        "chk_num = int(input(\"What's a number? \"))\n",
        "\n",
        "if chk_num != 0 and (chk_num % 2) == 0:  \n",
        "   print(\"{} is Even number\".format(chk_num))  \n",
        "elif chk_num % 2 == 0:\n",
        "   print(\"{} is Zero\".format(chk_num))  \n",
        "else:\n",
        "   print(\"{} is Odd number\".format(chk_num))  \n"
      ],
      "execution_count": 0,
      "outputs": [
        {
          "output_type": "stream",
          "text": [
            "What's a number? 2\n",
            "2 is Even number\n"
          ],
          "name": "stdout"
        }
      ]
    },
    {
      "cell_type": "markdown",
      "metadata": {
        "id": "pI-AXJ_Xo9CX",
        "colab_type": "text"
      },
      "source": [
        "**Quiz2**\n",
        "\n",
        "เขียนโปรแกรมรับค่า input 2 ตัว ในรูปแบบ float โดยให้ตัวแรกเป็นตัวตั้ง ตัวที่สองเป็นตัวหาร\n",
        "\n",
        "\t- หาผลลัพธ์ของการหาร\n",
        "\n",
        "\t- ใส่เลขทศนิยมได้\n",
        "\n",
        "\t- ถ้าตัวหารเป็น 0 ให้รับค่าใหม่จนกว่าจะเป็นเลขที่หารได้  \n"
      ]
    },
    {
      "cell_type": "code",
      "metadata": {
        "id": "eSKF5k_cpIPG",
        "colab_type": "code",
        "outputId": "c2cb52fc-2e13-4a46-e8fb-b009a2984eda",
        "colab": {
          "base_uri": "https://localhost:8080/",
          "height": 119
        }
      },
      "source": [
        "#Quiz 2\n",
        "\n",
        "num1 = float(input(\"Enter a number1 \"))\n",
        "num2 = float(input(\"Enter a number2 \"))\n",
        "\n",
        "while num2 == 0:\n",
        "    num2 = float(input(\"The number2 must not use zero.\\nPlease enter number2 again!\\n\"))\n",
        "\n",
        "result = num1 / num2\n",
        "print(float(result))\n",
        "\n"
      ],
      "execution_count": 0,
      "outputs": [
        {
          "output_type": "stream",
          "text": [
            "Enter a number1 66.6\n",
            "Enter a number2 0\n",
            "The number2 must not use Zero.\n",
            "Please enter number2 again!\n",
            "1\n",
            "66.6\n"
          ],
          "name": "stdout"
        }
      ]
    },
    {
      "cell_type": "markdown",
      "metadata": {
        "id": "oxzv6dKjviNj",
        "colab_type": "text"
      },
      "source": [
        "**Quiz3**\n",
        "\n",
        "เขียนโปรแกรม infinity while loop โดยรับค่า input มาเรื่อยๆ จนกว่าผู้ใช้จะใส่เลข 0 และนำเลขทั้งหมดมาหาค่าเฉลี่ย"
      ]
    },
    {
      "cell_type": "code",
      "metadata": {
        "id": "0ueRnKHtvyOZ",
        "colab_type": "code",
        "outputId": "d59dae01-8c21-4ecf-9f57-fb008d0af310",
        "colab": {
          "base_uri": "https://localhost:8080/",
          "height": 136
        }
      },
      "source": [
        "#Quiz 3\n",
        "\n",
        "\n",
        "x = float(input('Enter a number to find avg: '))\n",
        "count = 0\n",
        "total = x\n",
        "\n",
        "while x != 0 :\n",
        "    x = float(input('Add a number or Enter 0 to stop '))\n",
        "    total += x\n",
        "    count += 1\n",
        "    #print(total)\n",
        "    #print(count)\n",
        "print('Average is : ',total/count)\n"
      ],
      "execution_count": 0,
      "outputs": [
        {
          "output_type": "stream",
          "text": [
            "Enter a number to find avg: 1\n",
            "Add a number or Enter 0 to stop 2\n",
            "Add a number or Enter 0 to stop 3\n",
            "Add a number or Enter 0 to stop 4\n",
            "Add a number or Enter 0 to stop 5\n",
            "Add a number or Enter 0 to stop 0\n",
            "Average is :  3.0\n"
          ],
          "name": "stdout"
        }
      ]
    },
    {
      "cell_type": "markdown",
      "metadata": {
        "id": "9Duj1zpnS-U8",
        "colab_type": "text"
      },
      "source": [
        "**Quiz4**\n",
        "\n",
        "เขียนโปรมแกรมรับค่า input ที่เป็น integer มาหนึ่งตัว ตรวจสอบว่าเลขนั้นหาร 7 ลงตัวหรือไม่\n",
        "\n",
        "\t- ถ้าหารลงตัว ให้ปริ้น ‘หาร 7 ลงตัว’\n",
        "\n",
        "\t - ถ้าหารไม่ลงตัว ให้ปริ้น ‘หาร 7 ไม่ลงตัว’\n"
      ]
    },
    {
      "cell_type": "code",
      "metadata": {
        "id": "5J1dSx6yTHZT",
        "colab_type": "code",
        "outputId": "2b82c58d-2e1f-4264-d030-4436b302fb8f",
        "colab": {
          "base_uri": "https://localhost:8080/",
          "height": 85
        }
      },
      "source": [
        "#Quiz4\n",
        "\n",
        "chk_num = int(input(\"Please enter a number,\\nTo determine if a number is divisible by 7\\n\"))\n",
        "\n",
        "if (chk_num % 7) == 0:  \n",
        "   print(\"The number {} is divisible by 7\".format(chk_num))  \n",
        "else:\n",
        "   print(\"The number {} is not divisible by 7\".format(chk_num))  "
      ],
      "execution_count": 0,
      "outputs": [
        {
          "output_type": "stream",
          "text": [
            "Please enter a number,\n",
            "To determine if a number is divisible by 7\n",
            "21\n",
            "The number 21 is divisible by 7\n"
          ],
          "name": "stdout"
        }
      ]
    },
    {
      "cell_type": "code",
      "metadata": {
        "id": "LwCUGiNhVStZ",
        "colab_type": "code",
        "outputId": "8fa1cf18-ac78-4ee3-fb18-fd727c5e41fa",
        "colab": {
          "base_uri": "https://localhost:8080/",
          "height": 136
        }
      },
      "source": [
        "x = int(input(\"Please enter a number,\\nTo determine if a number is divisible by 7\\n\"))\n",
        "\n",
        "while (x % 7) != 0 :\n",
        "    print(\"The number {} is not divisible by 7\".format(x))  \n",
        "    x = int(input('Please re-enter a number is divisible by 7 \\n'))\n",
        "\n",
        "print(\"The number {} is divisible by 7\".format(x))  \n"
      ],
      "execution_count": 0,
      "outputs": [
        {
          "output_type": "stream",
          "text": [
            "Please enter a number,\n",
            "To determine if a number is divisible by 7\n",
            "66\n",
            "The number 66 is not divisible by 7\n",
            "Please re-enter a number is divisible by 7 \n",
            "77\n",
            "The number 77 is divisible by 7\n"
          ],
          "name": "stdout"
        }
      ]
    },
    {
      "cell_type": "markdown",
      "metadata": {
        "id": "7-PnScuQYTJT",
        "colab_type": "text"
      },
      "source": [
        "**Quiz5**\n",
        "\n",
        "เขียนโปรแกรมรับค่า int มา 3 จำนวน และตรวจสอบว่า 3 เลขนั้นสามารถนำมาสร้าง 3 เหลี่ยมมุมฉากได้หรือไม่"
      ]
    },
    {
      "cell_type": "markdown",
      "metadata": {
        "id": "4gasZ24ngCyX",
        "colab_type": "text"
      },
      "source": [
        "*Note :*\n",
        "\n",
        "\n",
        "*The basic triangle inequality is a<b+c, b<c+a, c<a+b*\n",
        "\n",
        "*If a2 + b2 > c2, then it is acute triangle.*\n",
        "\n",
        "*If a2 + b2 = c2, then it is right triangle.*\n",
        "\n",
        "*If a2 + b2 < c2, then it is obtuse triangle. *\n",
        "\n",
        "[List_of_triangle_inequalities](https://en.wikipedia.org/wiki/List_of_triangle_inequalities)\n",
        "\n"
      ]
    },
    {
      "cell_type": "code",
      "metadata": {
        "id": "hF8MuFrxYZ4f",
        "colab_type": "code",
        "outputId": "0b48b179-4aac-47d8-9dd5-4f284da6ebc8",
        "colab": {
          "base_uri": "https://localhost:8080/",
          "height": 102
        }
      },
      "source": [
        "#Quiz5   \n",
        "\n",
        "print('Input three integers for sides of a triangle')\n",
        "a = int(input('side a: '))\n",
        "b = int(input('side b: '))\n",
        "c = int(input('side c: '))\n",
        "\n",
        "if a**2 + b**2 == c**2:\n",
        "    print('It\\'s a Right triangle')\n",
        "else:\n",
        "    print('No')"
      ],
      "execution_count": 0,
      "outputs": [
        {
          "output_type": "stream",
          "text": [
            "Input three integers for sides of a triangle\n",
            "side a: 3\n",
            "side b: 4\n",
            "side c: 5\n",
            "It's a Right triangle\n"
          ],
          "name": "stdout"
        }
      ]
    },
    {
      "cell_type": "markdown",
      "metadata": {
        "id": "QJNHeRrLc_pk",
        "colab_type": "text"
      },
      "source": [
        "**Quiz6**\n",
        "\n",
        "เขียนโปรแกรมรับค่า int มา 3 จำนวน และตรวจสอบว่าเมื่อนำ 3 เลขนั้นมาสร้าง 3 เหลี่ยม จะได้สามเหลี่ยมแบบใด\n",
        "\t\n",
        "\t- สามเหลี่ยมมุมแหลม\n",
        "\n",
        "\t- สามเหลี่ยมมุมป้าน\n",
        "\n",
        "\t- สามเหลี่ยมมุมฉาก\n"
      ]
    },
    {
      "cell_type": "code",
      "metadata": {
        "id": "5KuzAsfmdEIP",
        "colab_type": "code",
        "outputId": "830fc705-fa24-4fd7-8a9b-bfdcaef58863",
        "colab": {
          "base_uri": "https://localhost:8080/",
          "height": 119
        }
      },
      "source": [
        "#Quiz6\n",
        "print('Input three integers for sides of a triangle.,\\nTo determine a types of triangles')\n",
        "a = int(input('side a: '))\n",
        "b = int(input('side b: '))\n",
        "c = int(input('side c: '))\n",
        "\n",
        "if a < (b+c) and b < (c+a) and c < (a+b):\n",
        "  if a**2 + b**2 == c**2:\n",
        "    print('It\\'s a Right triangle')\n",
        "  elif a**2+b**2 > c**2:\n",
        "    print('It\\'s a Acute triangle')\n",
        "  elif a**2 + b**2 < c**2:\n",
        "    print('It\\'s a Obtuse triangle')\n",
        "else:\n",
        "  print('Not in types')"
      ],
      "execution_count": 0,
      "outputs": [
        {
          "output_type": "stream",
          "text": [
            "Input three integers for sides of a triangle.,\n",
            "To determine a types of triangles\n",
            "side a: 3\n",
            "side b: 4\n",
            "side c: 5\n",
            "It's a Right triangle\n"
          ],
          "name": "stdout"
        }
      ]
    },
    {
      "cell_type": "markdown",
      "metadata": {
        "id": "ceulnr9mih8e",
        "colab_type": "text"
      },
      "source": [
        "**Quiz7**\n",
        "\n",
        "เขียนโปรแกรมให้รับค่าอาหาร 3 ครั้งที่ไปทานอาหารนอกบ้านล่าสุด โดยแต่ละครั้งต้องไม่ต่ำกว่า 1,000 และไม่เกิน 5,000 (ผู้ใช้ต้องใส่อยู่ในช่วงนี้) และนำค่าอาหารทั้ง 3 ครั้งมาบวกกัน หากเกิน 6,000 บาท จะได้รับส่วนลด 15% หากเกิน 12,000 จะได้รับส่วนลด 25% จงหายอดเงินสุดท้ายที่ต้องจ่าย"
      ]
    },
    {
      "cell_type": "code",
      "metadata": {
        "id": "oU5tyQkLikx-",
        "colab_type": "code",
        "colab": {
          "base_uri": "https://localhost:8080/",
          "height": 187
        },
        "outputId": "e049680e-2e14-4acf-dfbd-68037d77b720"
      },
      "source": [
        "#Quiz7 \n",
        "\n",
        "lst = []\n",
        "\n",
        "for i in range(3):\n",
        "  print('Enter a price of food bill',i+1)\n",
        "  chk_price = (float(input()))\n",
        "  if (chk_price >= 1000) and (chk_price <= 5000):\n",
        "    lst.append(chk_price)\n",
        "  else: \n",
        "    print('Please enter a price of food bill',i+1 ,'between 1000 and 5000.')\n",
        "    break\n",
        "    \n",
        "total = sum(lst)\n",
        "if len(lst) == 3 and total >= 3000 and total <= 15000:\n",
        "  if (total > 12000):\n",
        "    discount = (total*0.25)\n",
        "    promo = 'Discount 25%'\n",
        "  elif (total > 6000):\n",
        "    discount = (total*0.15)\n",
        "    promo = 'Discount 15%'\n",
        "  else:\n",
        "    discount = 0\n",
        "    promo = 'No discount'\n",
        "  print('\\nTotal price',total)  \n",
        "  print('Promo :', promo)\n",
        "  print('Price after discount :', total-discount)\n",
        "else:\n",
        "  print('\\nPrice is not in a range.')"
      ],
      "execution_count": 90,
      "outputs": [
        {
          "output_type": "stream",
          "text": [
            "Enter a price of food bill 1\n",
            "1000\n",
            "Enter a price of food bill 2\n",
            "2000\n",
            "Enter a price of food bill 3\n",
            "5000\n",
            "\n",
            "Total price 8000.0\n",
            "Promo : Discount 15%\n",
            "Price after discount : 6800.0\n"
          ],
          "name": "stdout"
        }
      ]
    },
    {
      "cell_type": "markdown",
      "metadata": {
        "id": "la7KrGoGs41D",
        "colab_type": "text"
      },
      "source": [
        "**Quiz8**\n",
        "\n",
        "เขียนโปรแกรมให้รับค่าอาหาร 4 ครั้งที่ไปทานอาหารนอกบ้านล่าสุด โดยแต่ละครั้งต้องไม่ต่ำกว่า 1,000 และไม่เกิน 5,000 (ผู้ใช้ต้องใส่อยู่ในช่วงนี้) และนำค่าอาหาร 3 ครั้งแรกมาบวกกัน หากเกิน 6,000 บาท จะได้รับส่วนลด 15% หากเกิน 12,000 จะได้รับส่วนลด 25% ของมื้อที่ 4 จงหายอดเงินสุดท้ายที่ต้องจ่ายของมื้อที่ 4"
      ]
    },
    {
      "cell_type": "code",
      "metadata": {
        "id": "qNZcLvZttD6i",
        "colab_type": "code",
        "colab": {
          "base_uri": "https://localhost:8080/",
          "height": 238
        },
        "outputId": "862c3b0a-555b-466a-efab-ddba63b48b3a"
      },
      "source": [
        "#Quiz8 \n",
        "\n",
        "lst = []\n",
        "\n",
        "for i in range(4):\n",
        "  print('Enter a price of item',i+1)\n",
        "  chk_price = (float(input()))\n",
        "  if (chk_price >= 1000) and (chk_price <= 5000):\n",
        "    lst.append(chk_price)\n",
        "  else: \n",
        "    print('Please enter a price of food bill',i+1 ,'between 1000 and 5000.')\n",
        "    break\n",
        "    \n",
        "total1_3 = sum(lst[:3])\n",
        "item4 = lst[3]\n",
        "if len(lst) == 4 and total >= 4000 and total <= 20000:\n",
        "  if (total1_3 > 12000):\n",
        "    discount = (item4*0.25)\n",
        "    promo = 'Discount 25%'\n",
        "  elif (total1_3 > 6000):\n",
        "    discount = (item4*0.15)\n",
        "    promo = 'Discount 15%'\n",
        "  else:\n",
        "    discount = 0\n",
        "    promo = 'No discount'\n",
        "  print('\\nTotal price of bill 1-3: ',total1_3)  \n",
        "  print('Got promo 4th of bill:', promo)\n",
        "  print('4th bill price :', item4); print('4th bill price after discount:', item4-discount)\n",
        "else:\n",
        "  print('\\nPrice is not in a range.')"
      ],
      "execution_count": 93,
      "outputs": [
        {
          "output_type": "stream",
          "text": [
            "Enter a price of item 1\n",
            "5000\n",
            "Enter a price of item 2\n",
            "5000\n",
            "Enter a price of item 3\n",
            "3000\n",
            "Enter a price of item 4\n",
            "1000\n",
            "\n",
            "Total price of bill 1-3 13000.0\n",
            "Got promo 4th of bill: Discount 25%\n",
            "4th bill price : 1000.0\n",
            "4th bill price after discount: 750.0\n"
          ],
          "name": "stdout"
        }
      ]
    },
    {
      "cell_type": "markdown",
      "metadata": {
        "id": "fkUKQnHtwipi",
        "colab_type": "text"
      },
      "source": [
        "**Quiz9**\n",
        "\n",
        "เขียนโปรแกรมให้รับค่าอาหาร 4 ครั้งที่ไปทานอาหารนอกบ้านล่าสุด โดยแต่ละครั้งต้องไม่ต่ำกว่า 1,000 และไม่เกิน 5,000 (เขียนให้ผู้ใช้ใส่ใหม่หากไม่อยู่ในช่วงที่กำหนด) และนำค่าอาหาร 3 ครั้งแรกมาบวกกัน หากเกิน 4,000 บาท จะได้รับส่วนลด 25% หากเกิน 9,000 จะได้รับส่วนลด 30% ของมื้อที่ 4 จงหายอดเงินสุดท้ายที่ต้องจ่ายของมื้อที่ 4"
      ]
    },
    {
      "cell_type": "code",
      "metadata": {
        "id": "4IvLdwKexGEX",
        "colab_type": "code",
        "colab": {
          "base_uri": "https://localhost:8080/",
          "height": 306
        },
        "outputId": "1f7d4296-cd81-4322-9ea6-54d4c2b8e62b"
      },
      "source": [
        "#Quiz9\n",
        "\n",
        "lst = []\n",
        "\n",
        "for i in range(4):\n",
        "  print('Enter a price of item',i+1)\n",
        "  chk_price = (float(input()))\n",
        "  while (chk_price < 1000) or (chk_price > 5000):\n",
        "    print('Please enter a price of food bill between 1000 and 5000.')\n",
        "    chk_price = (float(input()))\n",
        "  lst.append(chk_price)\n",
        "    \n",
        "total1_3 = sum(lst[:3])\n",
        "item4 = lst[3]\n",
        "if len(lst) == 4 and total >= 4000 and total <= 20000:\n",
        "  if (total1_3 > 4000):\n",
        "    discount = (item4*0.25)\n",
        "    promo = 'Discount 25%'\n",
        "  elif (total1_3 > 9000):\n",
        "    discount = (item4*0.30)\n",
        "    promo = 'Discount 30%'\n",
        "  else:\n",
        "    discount = 0\n",
        "    promo = 'No discount'\n",
        "  print('\\nTotal price of bill 1-3: ',total1_3)  \n",
        "  print('Got promo 4th of bill:', promo)\n",
        "  print('4th bill price :', item4); print('4th bill price after discount:', item4-discount)\n",
        "else:\n",
        "  print('\\nPrice is not in a range.')"
      ],
      "execution_count": 111,
      "outputs": [
        {
          "output_type": "stream",
          "text": [
            "Enter a price of item 1\n",
            "1\n",
            "Please enter a price of item between 1000 and 5000.\n",
            "1000\n",
            "Enter a price of item 2\n",
            "7000\n",
            "Please enter a price of item between 1000 and 5000.\n",
            "1000\n",
            "Enter a price of item 3\n",
            "1000\n",
            "Enter a price of item 4\n",
            "1000\n",
            "\n",
            "Total price of bill 1-3:  3000.0\n",
            "Got promo 4th of bill: No discount\n",
            "4th bill price : 1000.0\n",
            "4th bill price after discount: 1000.0\n"
          ],
          "name": "stdout"
        }
      ]
    },
    {
      "cell_type": "markdown",
      "metadata": {
        "id": "HXg_NoVd2uKb",
        "colab_type": "text"
      },
      "source": [
        "**Quiz10**\n",
        "\n",
        "เขียนโปรแกรมให้รับค่าอาหาร 4 ครั้งที่ไปทานอาหารนอกบ้านล่าสุด โดยแต่ละครั้งต้องไม่ต่ำกว่า 1,000 และไม่เกิน 5,000 (เขียนให้ผู้ใช้ใส่ใหม่หากไม่อยู่ในช่วงที่กำหนด) และถามผู้ใช้มีบัตรเครดิตหรือไม่(True/False) นำค่าอาหาร 3 ครั้งแรกมาบวกกัน หากเกิน 4,000 บาท จะได้รับส่วนลด 25% หากเกิน 9,000 จะได้รับส่วนลด 30% ของมื้อที่ 4 หากมีบัตรเครดิต ลดเพิ่มอีก 5%    จงหายอดเงินสุดท้ายที่ต้องจ่ายของมื้อที่ 4"
      ]
    },
    {
      "cell_type": "code",
      "metadata": {
        "id": "e2dSrYQe7QPE",
        "colab_type": "code",
        "colab": {}
      },
      "source": [
        "#Quiz10  Added function for checking credit card.\n",
        "#Run this cell first.\n",
        "def chk_cc(cc):\n",
        "  cc = cc.upper() \n",
        "  if cc.upper() == 'Y': \n",
        "    return True\n",
        "  else: \n",
        "    return False"
      ],
      "execution_count": 0,
      "outputs": []
    },
    {
      "cell_type": "code",
      "metadata": {
        "id": "UUcbePf92zgW",
        "colab_type": "code",
        "colab": {
          "base_uri": "https://localhost:8080/",
          "height": 272
        },
        "outputId": "3b2919b0-6fa9-4b05-d623-8934eb7c479a"
      },
      "source": [
        "#Quiz10\n",
        "lst = []\n",
        "\n",
        "for i in range(4):\n",
        "  print('Enter a price of item',i+1)\n",
        "  chk_price = (float(input()))\n",
        "  while (chk_price < 1000) or (chk_price > 5000):\n",
        "    print('Please enter a price of food bill between 1000 and 5000.')\n",
        "    chk_price = (float(input()))\n",
        "  lst.append(chk_price)\n",
        "\n",
        "tender_cc = chk_cc(input('Would you like to pay by credit card? [Y/N]\\n'))\n",
        "\n",
        "total1_3 = sum(lst[:3])\n",
        "item4 = lst[3]\n",
        "if len(lst) == 4 and total >= 4000 and total <= 20000:\n",
        "  if (total1_3 > 4000) and tender_cc == False:\n",
        "    discount = (item4*0.25)\n",
        "    promo = 'Discount 25%'\n",
        "  elif (total1_3 > 9000) and tender_cc == False:\n",
        "    discount = (item4*0.30)\n",
        "    promo = 'Discount 30%'\n",
        "  elif (total1_3 > 4000) and tender_cc == True:\n",
        "    discount = (item4*0.30)\n",
        "    promo = 'Discount 25% + 5% From  credit card'\n",
        "  elif (total1_3 > 9000) and tender_cc == True:\n",
        "    discount = (item4*0.35)\n",
        "    promo = 'Discount 30% + 5% From  credit card'\n",
        "  else:\n",
        "    discount = 0\n",
        "    promo = 'No discount'\n",
        "  print('\\nTotal price of bill 1-3: ',total1_3)  \n",
        "  print('Got promo 4th of bill:', promo)\n",
        "  print('4th bill price :', item4); print('4th bill price after discount:', item4-discount) \n",
        "else:\n",
        "  print('\\nPrice is not in a range.')"
      ],
      "execution_count": 166,
      "outputs": [
        {
          "output_type": "stream",
          "text": [
            "Enter a price of item 1\n",
            "5000\n",
            "Enter a price of item 2\n",
            "5000\n",
            "Enter a price of item 3\n",
            "5000\n",
            "Enter a price of item 4\n",
            "5000\n",
            "Would you like to pay by credit card? [Y/N]\n",
            "y\n",
            "\n",
            "Total price of bill 1-3:  15000.0\n",
            "Got promo 4th of bill: Discount 25% + 5% From  credit card\n",
            "4th bill price : 5000.0\n",
            "4th bill price after discount: 3500.0\n"
          ],
          "name": "stdout"
        }
      ]
    },
    {
      "cell_type": "markdown",
      "metadata": {
        "id": "wmyLG9UdM9pl",
        "colab_type": "text"
      },
      "source": [
        "**Quiz11**\n",
        "\n",
        "จงเขียนโปรแกรมรับ input ที่เป็นประโยคแบบ string ที่มีความยาวของคำไม่ต่ำกว่า 7 ตัวอักษรภาษาอังกฤษ(สมมติว่าเป็นคำเดียว) และมีพิมพ์ใหญ่พิมพ์เล็กปนกัน จากนั้นให้ตรวจสอบแต่ละอักษร ให้แปลงพิมพ์ใหญ่เป็นพิมพ์เล็ก และพิมพ์เล็กเป็นพิมพ์ใหญ่พร้อมกับปริ้นออกมา"
      ]
    },
    {
      "cell_type": "code",
      "metadata": {
        "id": "7D93gdQsNEE7",
        "colab_type": "code",
        "colab": {
          "base_uri": "https://localhost:8080/",
          "height": 85
        },
        "outputId": "c144b830-82cf-4ad2-b96e-efa3ec3979a8"
      },
      "source": [
        "ostring =''\n",
        "newstring ='' \n",
        "\n",
        "while len(ostring) <= 7:\n",
        "    ostring = input('Please enter a string >= 7 :\\n')\n",
        "\n",
        "for s in ostring: \n",
        "    if s.isupper():\n",
        "        newstring += s.lower()\n",
        "    elif s.islower():\n",
        "        newstring += s.upper()\n",
        "    else: break\n",
        "\n",
        "print('In original string : ', ostring) \n",
        "print('After changing :', newstring) "
      ],
      "execution_count": 180,
      "outputs": [
        {
          "output_type": "stream",
          "text": [
            "Please enter a string >= 7 :\n",
            "DEENdeenDeEn\n",
            "In original tring :  DEENdeenDeEn\n",
            "After changing : deenDEENdEeN\n"
          ],
          "name": "stdout"
        }
      ]
    },
    {
      "cell_type": "markdown",
      "metadata": {
        "id": "eSjikNw_UDJI",
        "colab_type": "text"
      },
      "source": [
        "**Quiz12**\n",
        "\n",
        "เขียนโปรแกรมรับ input 4 ตัวที่เป็น string จากนั้นตรวจสอบว่า input ใดมีความยาวมากที่สุด รองลงมา และน้อยที่สุด จากนั้น ปริ้นแต่ละ input ออกมาตามลำดับน้อยสุดไปมากสุด"
      ]
    },
    {
      "cell_type": "code",
      "metadata": {
        "id": "Nc5XdSojUDoA",
        "colab_type": "code",
        "colab": {
          "base_uri": "https://localhost:8080/",
          "height": 170
        },
        "outputId": "c6e6bfd8-4586-43a5-e15b-41fd5d6f2f29"
      },
      "source": [
        "lst = [] \n",
        "i = 0\n",
        "for i in range(4):\n",
        "    ostring = input('Please enter a string: ')\n",
        "    lst.append(ostring)\n",
        "\n",
        "#chk lenght \n",
        "count = len(lst)\n",
        "a = 0\n",
        "for a in range(count):\n",
        "  print('Input',a+1, lst[a], 'Lenght =', len(lst[a]))\n",
        "\n",
        "#print('Max lenght is : ', max(lst, key=len)) \n",
        "#print('Min lenght is : ', max(lst, key=len)) \n",
        "print('Sorted List: ', sorted(lst, key=len)) \n",
        "#Use the built-in function https://docs.python.org/3/library/functions.html\n",
        "\n"
      ],
      "execution_count": 229,
      "outputs": [
        {
          "output_type": "stream",
          "text": [
            "Please enter a string: sixsix\n",
            "Please enter a string: sixsixsix\n",
            "Please enter a string: si\n",
            "Please enter a string: x\n",
            "Input 1 sixsix Lenght = 6\n",
            "Input 2 sixsixsix Lenght = 9\n",
            "Input 3 si Lenght = 2\n",
            "Input 4 x Lenght = 1\n",
            "Sorted List:  ['x', 'si', 'sixsix', 'sixsixsix']\n"
          ],
          "name": "stdout"
        }
      ]
    },
    {
      "cell_type": "markdown",
      "metadata": {
        "id": "oaPDRxWRgXHv",
        "colab_type": "text"
      },
      "source": [
        "**Quiz13**\n",
        "\n",
        "เขียนโปรแกรมรับ input สองตัวเป็นจำนวนเต็มระหว่าง 0-60 โดยตัวแรกเป็นชั่วโมงและตัวที่สองเป็นนาที คำนวณค่าที่จอดรถถ้าชั่วโมงละ 150 บาท เศษนาทีคิดเป็นนาทีละ 2 บาท"
      ]
    },
    {
      "cell_type": "code",
      "metadata": {
        "id": "9cJ-1r2ngfC2",
        "colab_type": "code",
        "colab": {}
      },
      "source": [
        ""
      ],
      "execution_count": 0,
      "outputs": []
    }
  ]
}