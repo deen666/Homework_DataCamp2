{
  "nbformat": 4,
  "nbformat_minor": 0,
  "metadata": {
    "colab": {
      "name": "Quiz_Part2.ipynb",
      "provenance": [],
      "authorship_tag": "ABX9TyMVVpcL2vRGKS7F1DJ9gpOy"
    },
    "kernelspec": {
      "name": "python3",
      "display_name": "Python 3"
    }
  },
  "cells": [
    {
      "cell_type": "markdown",
      "metadata": {
        "id": "vgL29BZUjiQK",
        "colab_type": "text"
      },
      "source": [
        "**Quiz1**\n",
        "\n",
        "เขียนโปรแกรมรับ input จากผู้ใช้ 1 ตัว แปลงให้เป็น int และตรวจสอบว่าเป็นเลขคู่หรือเลขคี่ \n",
        "\n",
        "\t- หากเป็นเลขคู่ ให้พิมพ์ว่า เลขคู่\n",
        "\n",
        "\t- หากเป็นเลขคี่ ให้พิมพ์ว่า เลขคี่\n",
        "\n",
        "\t- หากเป็นเลขศูนย์ให้พิมพ์ว่า เลขศูนย์\n"
      ]
    },
    {
      "cell_type": "code",
      "metadata": {
        "id": "9w1qpFsSyEyB",
        "colab_type": "code",
        "colab": {
          "base_uri": "https://localhost:8080/",
          "height": 51
        },
        "outputId": "c028cf53-d427-449c-fbf6-285886f32443"
      },
      "source": [
        "#Quiz 1\n",
        "\n",
        "chk_num = int(input(\"What's a number? \"))\n",
        "\n",
        "'''\n",
        "if chk_num != 0 and (chk_num % 2) == 0:  \n",
        "   print(\"{} is Even number\".format(chk_num))  \n",
        "elif chk_num % 2 == 0:\n",
        "   print(\"{} is Zero\".format(chk_num))  \n",
        "else:\n",
        "   print(\"{} is Odd number\".format(chk_num))  \n",
        "'''\n",
        "\n",
        "if (chk_num % 2) == 0:  \n",
        "   print(\"{} is Even number\".format(chk_num))  \n",
        "elif (chk_num % 2) != 0:\n",
        "   print(\"{} is Odd number\".format(chk_num))  \n",
        "else:\n",
        "   print(\"{} is Zero\".format(chk_num))  \n",
        "\n",
        "\n"
      ],
      "execution_count": 15,
      "outputs": [
        {
          "output_type": "stream",
          "text": [
            "What's a number? 3\n",
            "3 is Odd number\n"
          ],
          "name": "stdout"
        }
      ]
    },
    {
      "cell_type": "markdown",
      "metadata": {
        "id": "pI-AXJ_Xo9CX",
        "colab_type": "text"
      },
      "source": [
        "**Quiz2**\n",
        "\n",
        "เขียนโปรแกรมรับค่า input 2 ตัว ในรูปแบบ float โดยให้ตัวแรกเป็นตัวตั้ง ตัวที่สองเป็นตัวหาร\n",
        "\n",
        "\t- หาผลลัพธ์ของการหาร\n",
        "\n",
        "\t- ใส่เลขทศนิยมได้\n",
        "\n",
        "\t- ถ้าตัวหารเป็น 0 ให้รับค่าใหม่จนกว่าจะเป็นเลขที่หารได้  \n"
      ]
    },
    {
      "cell_type": "code",
      "metadata": {
        "id": "eSKF5k_cpIPG",
        "colab_type": "code",
        "colab": {}
      },
      "source": [
        "#Quiz 2"
      ],
      "execution_count": 0,
      "outputs": []
    }
  ]
}