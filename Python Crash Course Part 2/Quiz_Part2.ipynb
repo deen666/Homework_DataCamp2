{
  "nbformat": 4,
  "nbformat_minor": 0,
  "metadata": {
    "colab": {
      "name": "Quiz_Part2.ipynb",
      "provenance": [],
      "authorship_tag": "ABX9TyM4nEdYTOpZIBwnYSN+LRwN"
    },
    "kernelspec": {
      "name": "python3",
      "display_name": "Python 3"
    }
  },
  "cells": [
    {
      "cell_type": "markdown",
      "metadata": {
        "id": "vgL29BZUjiQK",
        "colab_type": "text"
      },
      "source": [
        "**Quiz1**\n",
        "\n",
        "เขียนโปรแกรมรับ input จากผู้ใช้ 1 ตัว แปลงให้เป็น int และตรวจสอบว่าเป็นเลขคู่หรือเลขคี่ \n",
        "\n",
        "\t- หากเป็นเลขคู่ ให้พิมพ์ว่า เลขคู่\n",
        "\n",
        "\t- หากเป็นเลขคี่ ให้พิมพ์ว่า เลขคี่\n",
        "\n",
        "\t- หากเป็นเลขศูนย์ให้พิมพ์ว่า เลขศูนย์\n"
      ]
    },
    {
      "cell_type": "code",
      "metadata": {
        "id": "9w1qpFsSyEyB",
        "colab_type": "code",
        "colab": {
          "base_uri": "https://localhost:8080/",
          "height": 51
        },
        "outputId": "85d5b35b-929a-41bc-beae-c7ac69005f75"
      },
      "source": [
        "#Quiz 1\n",
        "\n",
        "chk_num = int(input(\"What's a number? \"))\n",
        "\n",
        "\"\"\"\n",
        "if (chk_num % 2) == 0:  \n",
        "   print(\"{} is Even number\".format(chk_num))  \n",
        "elif (chk_num % 2) != 0:\n",
        "   print(\"{} is Odd number\".format(chk_num))  \n",
        "else:\n",
        "   print(\"{} is Zero\".format(chk_num))  \n",
        "\"\"\"\n",
        "#Or\n",
        "\n",
        "if chk_num != 0 and (chk_num % 2) == 0:  \n",
        "   print(\"{} is Even number\".format(chk_num))  \n",
        "elif chk_num % 2 == 0:\n",
        "   print(\"{} is Zero\".format(chk_num))  \n",
        "else:\n",
        "   print(\"{} is Odd number\".format(chk_num))  \n"
      ],
      "execution_count": 32,
      "outputs": [
        {
          "output_type": "stream",
          "text": [
            "What's a number? 2\n",
            "2 is Even number\n"
          ],
          "name": "stdout"
        }
      ]
    },
    {
      "cell_type": "markdown",
      "metadata": {
        "id": "pI-AXJ_Xo9CX",
        "colab_type": "text"
      },
      "source": [
        "**Quiz2**\n",
        "\n",
        "เขียนโปรแกรมรับค่า input 2 ตัว ในรูปแบบ float โดยให้ตัวแรกเป็นตัวตั้ง ตัวที่สองเป็นตัวหาร\n",
        "\n",
        "\t- หาผลลัพธ์ของการหาร\n",
        "\n",
        "\t- ใส่เลขทศนิยมได้\n",
        "\n",
        "\t- ถ้าตัวหารเป็น 0 ให้รับค่าใหม่จนกว่าจะเป็นเลขที่หารได้  \n"
      ]
    },
    {
      "cell_type": "code",
      "metadata": {
        "id": "eSKF5k_cpIPG",
        "colab_type": "code",
        "colab": {
          "base_uri": "https://localhost:8080/",
          "height": 68
        },
        "outputId": "42bead1d-fd5a-408c-feb9-9c2055be97c2"
      },
      "source": [
        "#Quiz 2\n",
        "\n",
        "num1 = float(input(\"Enter a number1 \"))\n",
        "num2 = float(input(\"Enter a number2 \"))\n",
        "\n",
        "while num2 == 0:\n",
        "    print(\"The number1 cannot divide by zero\")\n",
        "    num2 = float(input(\"Please enter number2 again!\"))\n",
        "\n",
        "result = num1 / num2\n",
        "print(float(result))\n",
        "\n"
      ],
      "execution_count": 31,
      "outputs": [
        {
          "output_type": "stream",
          "text": [
            "Enter a number1 66.6\n",
            "Enter a number2 1\n",
            "66.6\n"
          ],
          "name": "stdout"
        }
      ]
    },
    {
      "cell_type": "markdown",
      "metadata": {
        "id": "oxzv6dKjviNj",
        "colab_type": "text"
      },
      "source": [
        "**Quiz3**\n",
        "\n",
        "เขียนโปรแกรม infinity while loop โดยรับค่า input มาเรื่อยๆ จนกว่าผู้ใช้จะใส่เลข 0 และนำเลขทั้งหมดมาหาค่าเฉลี่ย"
      ]
    },
    {
      "cell_type": "code",
      "metadata": {
        "id": "0ueRnKHtvyOZ",
        "colab_type": "code",
        "colab": {}
      },
      "source": [
        "#Quiz 3"
      ],
      "execution_count": 0,
      "outputs": []
    }
  ]
}