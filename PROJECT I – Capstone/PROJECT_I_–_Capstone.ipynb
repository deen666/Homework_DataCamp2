{
  "nbformat": 4,
  "nbformat_minor": 0,
  "metadata": {
    "colab": {
      "name": "PROJECT I – Capstone.ipynb",
      "provenance": [],
      "authorship_tag": "ABX9TyPjc0/E0pwnyTQALpu+byko"
    },
    "kernelspec": {
      "name": "python3",
      "display_name": "Python 3"
    }
  },
  "cells": [
    {
      "cell_type": "markdown",
      "metadata": {
        "id": "0iYKArQ8Sz1A",
        "colab_type": "text"
      },
      "source": [
        "**Quiz1**\n",
        "\n",
        "จงเขียนโปรแกรมรับค่า Input จากผู้ใช้ ถ้าผู้ใช้ใส่ 0.0 จึงจะสิ้นสุดโปรแกรม คำนวณหาค่าเฉลี่ยของเลขทั้งหมดที่ผู้ใช้ใส่ และปริ้นค่าเฉลี่ยคูณด้วยจำนวนครั้งที่ใส่ทั้งหมด "
      ]
    },
    {
      "cell_type": "code",
      "metadata": {
        "id": "U79DSRoQSX4O",
        "colab_type": "code",
        "colab": {
          "base_uri": "https://localhost:8080/",
          "height": 136
        },
        "outputId": "32dc100b-7556-4d19-d820-5db35381cf8c"
      },
      "source": [
        "#Quiz1\n",
        "x = float(input('Enter a number to find avg: '))\n",
        "count = 0\n",
        "total = x\n",
        "\n",
        "while x != 0.0 :\n",
        "    x = float(input('Add a number or Enter 0.0 to stop '))\n",
        "    total += x\n",
        "    count += 1\n",
        "    #print(total)\n",
        "    #print(count)\n",
        "AVG = total/count\n",
        "print('Average is : ',AVG)\n",
        "print('Average x count : ',AVG*count)"
      ],
      "execution_count": null,
      "outputs": [
        {
          "output_type": "stream",
          "text": [
            "Enter a number to find avg: 6\n",
            "Add a number or Enter 0.0 to stop 6\n",
            "Add a number or Enter 0.0 to stop 6\n",
            "Add a number or Enter 0.0 to stop 6\n",
            "Add a number or Enter 0.0 to stop 0.0\n",
            "Average is :  6.0\n",
            "Average x count :  24.0\n"
          ],
          "name": "stdout"
        }
      ]
    },
    {
      "cell_type": "markdown",
      "metadata": {
        "id": "MTscjmRPFRao",
        "colab_type": "text"
      },
      "source": [
        "**Quiz2**\n",
        "\n",
        "จงเขียนโปรแกรมให้ผู้ใช้ใส่เลข ขอบเขตล่าง และ ขอบเขตบน และคำนวณหาเลขจำนวนเฉพาะ (Prime Number) ที่อยู่ระหว่างขอบเขตล่างและขอบเขตบน"
      ]
    },
    {
      "cell_type": "code",
      "metadata": {
        "id": "rOpcB5U5FW9x",
        "colab_type": "code",
        "colab": {
          "base_uri": "https://localhost:8080/",
          "height": 323
        },
        "outputId": "8a688d12-8a10-41aa-e7cf-bb377a337a09"
      },
      "source": [
        "#Quiz2\n",
        "\n",
        "l_bar = int(input(\"Enter low bar: \"))\n",
        "h_bar = int(input(\"Enter high bar: \"))\n",
        "\n",
        "Count = 0 \n",
        "l = len(range(l_bar, h_bar + 1))\n",
        "\n",
        "for number in range(l_bar, h_bar + 1):\n",
        "  if number > 1:\n",
        "       for i in range(2, number):\n",
        "         #range(2,math.floor(math.sqrt(number)))\n",
        "           if number % i == 0:\n",
        "             #print(i,\"times\",number//i,\"is\",number)\n",
        "             break\n",
        "       else:\n",
        "           Count += 1\n",
        "           print(number, 'is a prime number')\n",
        "\n",
        "\n",
        "print(l,'Numbers between',l_bar,'and',h_bar,'has',Count,'prime number.')"
      ],
      "execution_count": 25,
      "outputs": [
        {
          "output_type": "stream",
          "text": [
            "Enter low bar: 6\n",
            "Enter high bar: 66\n",
            "7 is a prime number\n",
            "11 is a prime number\n",
            "13 is a prime number\n",
            "17 is a prime number\n",
            "19 is a prime number\n",
            "23 is a prime number\n",
            "29 is a prime number\n",
            "31 is a prime number\n",
            "37 is a prime number\n",
            "41 is a prime number\n",
            "43 is a prime number\n",
            "47 is a prime number\n",
            "53 is a prime number\n",
            "59 is a prime number\n",
            "61 is a prime number\n",
            "61 Numbers between 6 and 66 has 15 prime number.\n"
          ],
          "name": "stdout"
        }
      ]
    }
  ]
}