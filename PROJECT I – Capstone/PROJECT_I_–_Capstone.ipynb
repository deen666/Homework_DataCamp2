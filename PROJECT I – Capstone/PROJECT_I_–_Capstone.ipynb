{
  "nbformat": 4,
  "nbformat_minor": 0,
  "metadata": {
    "colab": {
      "name": "PROJECT I – Capstone.ipynb",
      "provenance": [],
      "authorship_tag": "ABX9TyO5WfDyDxr2aJ0xyRgnOPGP"
    },
    "kernelspec": {
      "name": "python3",
      "display_name": "Python 3"
    }
  },
  "cells": [
    {
      "cell_type": "markdown",
      "metadata": {
        "id": "0iYKArQ8Sz1A",
        "colab_type": "text"
      },
      "source": [
        "**Quiz1**\n",
        "\n",
        "จงเขียนโปรแกรมรับค่า Input จากผู้ใช้ ถ้าผู้ใช้ใส่ 0.0 จึงจะสิ้นสุดโปรแกรม คำนวณหาค่าเฉลี่ยของเลขทั้งหมดที่ผู้ใช้ใส่ และปริ้นค่าเฉลี่ยคูณด้วยจำนวนครั้งที่ใส่ทั้งหมด "
      ]
    },
    {
      "cell_type": "code",
      "metadata": {
        "id": "U79DSRoQSX4O",
        "colab_type": "code",
        "colab": {
          "base_uri": "https://localhost:8080/",
          "height": 68
        },
        "outputId": "9af0d97e-4ea4-42df-b4a4-a7805691a233"
      },
      "source": [
        "x = float(input('Enter a number to find avg: '))\n",
        "count = 0\n",
        "total = x\n",
        "\n",
        "while x != 0 :\n",
        "    x = float(input('Add a number or Enter 0.0 to stop '))\n",
        "    total += x\n",
        "    count += 1\n",
        "    #print(total)\n",
        "    #print(count)\n",
        "print('Average is : ',total/count)"
      ],
      "execution_count": 4,
      "outputs": [
        {
          "output_type": "stream",
          "text": [
            "Enter a number to find avg: 56\n",
            "Add a number or Enter 0 to stop 0.0\n",
            "Average is :  56.0\n"
          ],
          "name": "stdout"
        }
      ]
    }
  ]
}