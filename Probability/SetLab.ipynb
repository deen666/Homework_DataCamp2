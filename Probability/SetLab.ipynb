{
  "nbformat": 4,
  "nbformat_minor": 0,
  "metadata": {
    "colab": {
      "name": "SetLab.ipynb",
      "provenance": [],
      "authorship_tag": "ABX9TyMV7qjNAPkBRwbKYzrBD1Al"
    },
    "kernelspec": {
      "name": "python3",
      "display_name": "Python 3"
    }
  },
  "cells": [
    {
      "cell_type": "markdown",
      "metadata": {
        "id": "jcUOPEPKBJk7",
        "colab_type": "text"
      },
      "source": [
        "## **set lab**\n",
        "\n"
      ]
    },
    {
      "cell_type": "markdown",
      "metadata": {
        "id": "dSNJV_hmBY1-",
        "colab_type": "text"
      },
      "source": [
        "เซตต่อไปนี้เป็นเซตจำกัดหรือ เซตไม่จำกัด\n",
        "\n",
        "เซตของเส้นตรงที่ขนานกับแกน Y\n",
        "\n",
        "เซตของจำนวนพนักงานในบริษัท\n",
        "\n",
        "เซตของไฟฟ้าที่ใช้ในบริษัทในแต่ละเดือน\n",
        "\n",
        "เซตของค่าใช้จ่ายแต่ละส่วนในบริษัท\n"
      ]
    },
    {
      "cell_type": "code",
      "metadata": {
        "id": "l4Y2hhieE9Rz",
        "colab_type": "code",
        "colab": {}
      },
      "source": [
        "#"
      ],
      "execution_count": null,
      "outputs": []
    },
    {
      "cell_type": "markdown",
      "metadata": {
        "id": "g8E909oLAM7J",
        "colab_type": "text"
      },
      "source": [
        "เขียนสมาชิกเซตต่อไปนี้\n",
        "\n",
        "A ∪ B ∪ C\n",
        "\n",
        "A ∩ B ∩ C\n",
        "\n",
        "(B ∪ C)c\n",
        "\n",
        "(A-B)c\n",
        "\n",
        "\n"
      ]
    },
    {
      "cell_type": "code",
      "metadata": {
        "id": "X4D4w_UfAQja",
        "colab_type": "code",
        "colab": {
          "base_uri": "https://localhost:8080/",
          "height": 153
        },
        "outputId": "87d0df02-ef30-4f4b-f6c6-1323073f94d5"
      },
      "source": [
        "A = {1,2,3} \n",
        "B = {3,4,5,6,7}\n",
        "C = {5,7,9} \n",
        "U = {1,2,3,4,5,6,7,8,9,10}\n",
        "\n",
        "S1 = A.union(B, C)\n",
        "S2 = A & B & C\n",
        "S3 = U-B.union(C)\n",
        "S4 = U-(A-B)\n",
        "print('A U B U C =',  S1,'\\n')\n",
        "print('A ∩ B ∩ C =',  S2,'\\n')\n",
        "print('(B ∪ C)c = ',  S3,'\\n')\n",
        "print('(A-B)c = ',  S4,'\\n')"
      ],
      "execution_count": 1,
      "outputs": [
        {
          "output_type": "stream",
          "text": [
            "A U B U C = {1, 2, 3, 4, 5, 6, 7, 9} \n",
            "\n",
            "A ∩ B ∩ C = set() \n",
            "\n",
            "(B ∪ C)c =  {8, 1, 2, 10} \n",
            "\n",
            "(A-B)c =  {3, 4, 5, 6, 7, 8, 9, 10} \n",
            "\n"
          ],
          "name": "stdout"
        }
      ]
    },
    {
      "cell_type": "markdown",
      "metadata": {
        "id": "xBosp9iKBjKv",
        "colab_type": "text"
      },
      "source": [
        "เปรียบเทียบระหว่าง 2 เซตนี้\n",
        "\n",
        "(A ∩ C) = Ac ∪ Cc\n",
        "\n",
        "![(A ∩ C)](https://raw.githubusercontent.com/deen666/Homework_DataCamp2/master/Probability/MSP328118h588f56gih00bi000038e18i9bef33da45.gif)\n",
        "\n",
        "![Ac ∪ Cc](https://raw.githubusercontent.com/deen666/Homework_DataCamp2/master/Probability/MSP32231acb901a4749fadi000058657c12c9dhc00g.gif)\n",
        "\n",
        "\n",
        "(A ∩ B) ∪ C = (A U C) ∩ (B U C)\n",
        "\n",
        "\n",
        "![(A ∩ B) ∪ C ](https://raw.githubusercontent.com/deen666/Homework_DataCamp2/master/Probability/MSP11727136hd8g14b3h6b1g00004feh91bgg9egg8aa.gif)\n",
        "\n",
        "![(A U C) ∩ (B U C)](https://raw.githubusercontent.com/deen666/Homework_DataCamp2/master/Probability/MSP17551h30i9b17gb3f72e0000503e902f68ebdgi7.gif)\n"
      ]
    },
    {
      "cell_type": "code",
      "metadata": {
        "id": "y8PgFg6tHpEh",
        "colab_type": "code",
        "colab": {}
      },
      "source": [
        "#TEST\n",
        "\"\"\"\n",
        "A = {1,2,3} \n",
        "B = {3,4,5,6,7}\n",
        "C = {5,7,9} \n",
        "U = {1,2,3,4,5,6,7,8,9,10}\n",
        "\n",
        "#(A ∩ C) = Ac ∪ Cc\n",
        "\n",
        "\n",
        "q1 = A & C\n",
        "q2 = U-A \n",
        "q3 = U-C\n",
        "q4 = q2.union(q3)\n",
        "\n",
        "print('(A ∩ C)',  q1,'\\n')\n",
        "print('(A U C) ∩ (B U C)',  q4,'\\n')\n",
        "\"\"\"\n"
      ],
      "execution_count": null,
      "outputs": []
    }
  ]
}