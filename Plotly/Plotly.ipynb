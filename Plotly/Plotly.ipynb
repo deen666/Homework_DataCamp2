{
  "nbformat": 4,
  "nbformat_minor": 0,
  "metadata": {
    "colab": {
      "name": "Plotly.ipynb",
      "provenance": [],
      "authorship_tag": "ABX9TyM5/L28YV1uiOb4esihUIjV"
    },
    "kernelspec": {
      "name": "python3",
      "display_name": "Python 3"
    }
  },
  "cells": [
    {
      "cell_type": "code",
      "metadata": {
        "id": "8I0zmb7q7Vxf",
        "colab_type": "code",
        "colab": {}
      },
      "source": [
        "#Run this cell first\n",
        "import numpy as np\n",
        "import pandas as pd\n",
        "import plotly.express as px"
      ],
      "execution_count": 1,
      "outputs": []
    },
    {
      "cell_type": "markdown",
      "metadata": {
        "id": "kusdtDW0AXjV",
        "colab_type": "text"
      },
      "source": [
        "**Quiz1**\n",
        "\n",
        "นาย A,B,C,D,E มีรายได้ 10,000 20,000 30,000 40,000 60,000 ต่อเดือนในปี 2020 ตามลำดับ ทุกๆปีเงินเดือนจะเพิ่ม 7% จงสร้าง DataFrame เก็บเงินเดือนของทั้ง 5 นาย ในปี 2016,2017,2018,2019,2020 "
      ]
    },
    {
      "cell_type": "code",
      "metadata": {
        "id": "qLc0QUK9AHE_",
        "colab_type": "code",
        "colab": {
          "base_uri": "https://localhost:8080/",
          "height": 102
        },
        "outputId": "e627866c-de9c-4ebb-ad7b-3b18b18e5117"
      },
      "source": [
        "#Is not done.!\n",
        "year = ['2016', '2017', '2018', '2019', '2020']\n",
        "name = ['A', 'B', 'C', 'D', 'E']\n",
        "salary = [10000, 20000, 30000, 40000, 600000]\n",
        "Values = []\n",
        "\n",
        "for i in range(4):\n",
        "  salary = list(map(lambda x:round(x/1.07,2),salary))\n",
        "  Values.append(salary)\n",
        "salary = [10000, 20000, 30000, 40000, 600000]\n",
        "Values.append(salary)\n",
        "print(np.array(Values))\n",
        "\n",
        "\n",
        "#print(values.T)\n",
        "\n",
        "\n",
        "#df = pd.DataFrame(Values, name, year)\n",
        "#df.T\n"
      ],
      "execution_count": 60,
      "outputs": [
        {
          "output_type": "stream",
          "text": [
            "[[  9345.79  18691.59  28037.38  37383.18 560747.66]\n",
            " [  8734.38  17468.78  26203.16  34937.55 524063.23]\n",
            " [  8162.97  16325.96  24488.93  32651.92 489778.72]\n",
            " [  7628.94  15257.91  22886.85  30515.81 457737.12]\n",
            " [ 10000.    20000.    30000.    40000.   600000.  ]]\n"
          ],
          "name": "stdout"
        }
      ]
    },
    {
      "cell_type": "code",
      "metadata": {
        "id": "Zkg8BC3s1sLp",
        "colab_type": "code",
        "colab": {}
      },
      "source": [
        "!wget https://gist.githubusercontent.com/deen666/aaf734fe721ca1bf504d324bf76eef04/raw/8f990dffacaf13cff911a86d4bc944be3b0d0486/train.csv"
      ],
      "execution_count": null,
      "outputs": []
    },
    {
      "cell_type": "code",
      "metadata": {
        "id": "84HK5Y-3VFng",
        "colab_type": "code",
        "colab": {
          "base_uri": "https://localhost:8080/",
          "height": 34
        },
        "outputId": "a67d1b96-da2c-413e-9135-ac3f72f35a7b"
      },
      "source": [
        "ls"
      ],
      "execution_count": null,
      "outputs": [
        {
          "output_type": "stream",
          "text": [
            "\u001b[0m\u001b[01;34msample_data\u001b[0m/  train.csv\n"
          ],
          "name": "stdout"
        }
      ]
    }
  ]
}