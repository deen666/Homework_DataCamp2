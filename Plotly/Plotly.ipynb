{
  "nbformat": 4,
  "nbformat_minor": 0,
  "metadata": {
    "colab": {
      "name": "Plotly.ipynb",
      "provenance": [],
      "authorship_tag": "ABX9TyOkJGIQWnrZLIG6eEgKMMHN"
    },
    "kernelspec": {
      "name": "python3",
      "display_name": "Python 3"
    }
  },
  "cells": [
    {
      "cell_type": "code",
      "metadata": {
        "id": "8I0zmb7q7Vxf",
        "colab_type": "code",
        "colab": {}
      },
      "source": [
        "#Run this cell first\n",
        "import numpy as np\n",
        "import pandas as pd\n",
        "import plotly.express as px"
      ],
      "execution_count": 1,
      "outputs": []
    },
    {
      "cell_type": "markdown",
      "metadata": {
        "id": "kusdtDW0AXjV",
        "colab_type": "text"
      },
      "source": [
        "**Quiz1**\n",
        "\n",
        "นาย A,B,C,D,E มีรายได้ 10,000 20,000 30,000 40,000 60,000 ต่อเดือนในปี 2020 ตามลำดับ ทุกๆปีเงินเดือนจะเพิ่ม 7% จงสร้าง DataFrame เก็บเงินเดือนของทั้ง 5 นาย ในปี 2016,2017,2018,2019,2020 "
      ]
    },
    {
      "cell_type": "code",
      "metadata": {
        "id": "qLc0QUK9AHE_",
        "colab_type": "code",
        "colab": {
          "base_uri": "https://localhost:8080/",
          "height": 289
        },
        "outputId": "96b47a36-5408-43f0-fa03-87fdd8d0d524"
      },
      "source": [
        "#Is not done.!\n",
        "name = ['A', 'B', 'C', 'D', 'E']\n",
        "salary = np.array([10000, 20000, 30000, 40000, 600000])\n",
        "Values = []\n",
        "\n",
        "for i in range(5):\n",
        "  salary = list(map(lambda x:round(x/1.07,2),salary))\n",
        "  Values.append(salary)\n",
        "print(np.array(Values))\n",
        "\n",
        "#print(values.T)\n",
        "\n",
        "\n",
        "df = pd.DataFrame(Values, name, year)\n",
        "df\n"
      ],
      "execution_count": 48,
      "outputs": [
        {
          "output_type": "stream",
          "text": [
            "[[  9345.79  18691.59  28037.38  37383.18 560747.66]\n",
            " [  8734.38  17468.78  26203.16  34937.55 524063.23]\n",
            " [  8162.97  16325.96  24488.93  32651.92 489778.72]\n",
            " [  7628.94  15257.91  22886.85  30515.81 457737.12]\n",
            " [  7129.85  14259.73  21389.58  28519.45 427791.7 ]]\n"
          ],
          "name": "stdout"
        },
        {
          "output_type": "execute_result",
          "data": {
            "text/html": [
              "<div>\n",
              "<style scoped>\n",
              "    .dataframe tbody tr th:only-of-type {\n",
              "        vertical-align: middle;\n",
              "    }\n",
              "\n",
              "    .dataframe tbody tr th {\n",
              "        vertical-align: top;\n",
              "    }\n",
              "\n",
              "    .dataframe thead th {\n",
              "        text-align: right;\n",
              "    }\n",
              "</style>\n",
              "<table border=\"1\" class=\"dataframe\">\n",
              "  <thead>\n",
              "    <tr style=\"text-align: right;\">\n",
              "      <th></th>\n",
              "      <th>2016</th>\n",
              "      <th>2017</th>\n",
              "      <th>2018</th>\n",
              "      <th>2019</th>\n",
              "      <th>2020</th>\n",
              "    </tr>\n",
              "  </thead>\n",
              "  <tbody>\n",
              "    <tr>\n",
              "      <th>A</th>\n",
              "      <td>9345.79</td>\n",
              "      <td>18691.59</td>\n",
              "      <td>28037.38</td>\n",
              "      <td>37383.18</td>\n",
              "      <td>560747.66</td>\n",
              "    </tr>\n",
              "    <tr>\n",
              "      <th>B</th>\n",
              "      <td>8734.38</td>\n",
              "      <td>17468.78</td>\n",
              "      <td>26203.16</td>\n",
              "      <td>34937.55</td>\n",
              "      <td>524063.23</td>\n",
              "    </tr>\n",
              "    <tr>\n",
              "      <th>C</th>\n",
              "      <td>8162.97</td>\n",
              "      <td>16325.96</td>\n",
              "      <td>24488.93</td>\n",
              "      <td>32651.92</td>\n",
              "      <td>489778.72</td>\n",
              "    </tr>\n",
              "    <tr>\n",
              "      <th>D</th>\n",
              "      <td>7628.94</td>\n",
              "      <td>15257.91</td>\n",
              "      <td>22886.85</td>\n",
              "      <td>30515.81</td>\n",
              "      <td>457737.12</td>\n",
              "    </tr>\n",
              "    <tr>\n",
              "      <th>E</th>\n",
              "      <td>7129.85</td>\n",
              "      <td>14259.73</td>\n",
              "      <td>21389.58</td>\n",
              "      <td>28519.45</td>\n",
              "      <td>427791.70</td>\n",
              "    </tr>\n",
              "  </tbody>\n",
              "</table>\n",
              "</div>"
            ],
            "text/plain": [
              "      2016      2017      2018      2019       2020\n",
              "A  9345.79  18691.59  28037.38  37383.18  560747.66\n",
              "B  8734.38  17468.78  26203.16  34937.55  524063.23\n",
              "C  8162.97  16325.96  24488.93  32651.92  489778.72\n",
              "D  7628.94  15257.91  22886.85  30515.81  457737.12\n",
              "E  7129.85  14259.73  21389.58  28519.45  427791.70"
            ]
          },
          "metadata": {
            "tags": []
          },
          "execution_count": 48
        }
      ]
    },
    {
      "cell_type": "code",
      "metadata": {
        "id": "Zkg8BC3s1sLp",
        "colab_type": "code",
        "colab": {}
      },
      "source": [
        "!wget https://gist.githubusercontent.com/deen666/aaf734fe721ca1bf504d324bf76eef04/raw/8f990dffacaf13cff911a86d4bc944be3b0d0486/train.csv"
      ],
      "execution_count": null,
      "outputs": []
    },
    {
      "cell_type": "code",
      "metadata": {
        "id": "84HK5Y-3VFng",
        "colab_type": "code",
        "colab": {
          "base_uri": "https://localhost:8080/",
          "height": 34
        },
        "outputId": "a67d1b96-da2c-413e-9135-ac3f72f35a7b"
      },
      "source": [
        "ls"
      ],
      "execution_count": null,
      "outputs": [
        {
          "output_type": "stream",
          "text": [
            "\u001b[0m\u001b[01;34msample_data\u001b[0m/  train.csv\n"
          ],
          "name": "stdout"
        }
      ]
    }
  ]
}