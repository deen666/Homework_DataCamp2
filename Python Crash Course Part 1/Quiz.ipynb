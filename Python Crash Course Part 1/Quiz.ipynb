{
  "nbformat": 4,
  "nbformat_minor": 0,
  "metadata": {
    "colab": {
      "name": "Quiz.ipynb",
      "provenance": [],
      "authorship_tag": "ABX9TyPKHZ1HaTDea0u+ZA4Noeoo"
    },
    "kernelspec": {
      "name": "python3",
      "display_name": "Python 3"
    }
  },
  "cells": [
    {
      "cell_type": "markdown",
      "metadata": {
        "id": "4musXC3J1ktf",
        "colab_type": "text"
      },
      "source": [
        "**Quiz 1**"
      ]
    },
    {
      "cell_type": "code",
      "metadata": {
        "id": "730SAl1O1eLB",
        "colab_type": "code",
        "colab": {}
      },
      "source": [
        "\n",
        "\n",
        "#1.1 2345 %% 13\n",
        "Q1 = 2345%13\n",
        "\n",
        "#1.2\n",
        "Q2 = int(1567//17)\n",
        "\n",
        "#1.3   #ไม่ใช่ตัวแปรเดียวกัน\n",
        "Firstname = \"D\"\n",
        "FirstName = \"2EN\"\n",
        "print(Firstname, FirstName)\n",
        "\n",
        "\n",
        "#1.4 #ไม่ถูกต้อง 13Friday is illegal variable name\n",
        "'''\n",
        "13Friday = 13 \n",
        "\n",
        "13Friday = 13\n",
        "           ^\n",
        "SyntaxError: invalid syntax\n",
        "'''\n",
        "\n",
        "#1.5\n",
        "Q5 = print('Answer1 is {} Answer2 is {}'.format(Q1,Q2))\n",
        "\n",
        "#check type\n",
        "print(type(Q1))\n",
        "print(type(Q2))"
      ],
      "execution_count": 0,
      "outputs": []
    },
    {
      "cell_type": "markdown",
      "metadata": {
        "id": "qJzdXrFY3toP",
        "colab_type": "text"
      },
      "source": [
        "**Quiz 2**"
      ]
    },
    {
      "cell_type": "code",
      "metadata": {
        "id": "I_q-dcFv35Fg",
        "colab_type": "code",
        "colab": {}
      },
      "source": [
        "# 2.1\n",
        "devide = lambda x: x/3\n",
        "print(devide(9))\n",
        "\n",
        "# 2.2\n",
        "def avg(a,b,c,d):\n",
        "  return a+b+c+d/4\n",
        "print(avg(1,2,3,4))\n",
        "\n",
        "\n",
        "# 2.3\n",
        "avg_lamda = lambda x,y,z : (x + y + z)/3\n",
        "print(int(avg_lamda(15,30,45)))\n"
      ],
      "execution_count": 0,
      "outputs": []
    },
    {
      "cell_type": "markdown",
      "metadata": {
        "id": "3zrzuaPLB7aN",
        "colab_type": "text"
      },
      "source": [
        "**Quiz 3**"
      ]
    },
    {
      "cell_type": "code",
      "metadata": {
        "id": "6XoLAXlSB-lO",
        "colab_type": "code",
        "outputId": "a53b62c2-c3a6-4adb-e8f2-112ee4413047",
        "colab": {
          "base_uri": "https://localhost:8080/",
          "height": 136
        }
      },
      "source": [
        "# 3.1 Create list\n",
        "lst = ['DEEN',66,'SAMT']\n",
        "print('My Name is',lst[0] + '\\nLastName ',lst[2] + '\\nAge ',lst[1])\n",
        "\n",
        "# 3.2\n",
        "del lst[1]\n",
        "print(lst)\n",
        "# or lst.remove(66)  \n",
        "# The remove() method removes the specified item: https://www.w3schools.com/python/python_lists.asp\n",
        "\n",
        "# 3.3\n",
        "lst[1] = 66\n",
        "NewAge =  lst[1]-10\n",
        "lst.insert(0,NewAge)\n",
        "print(lst)\n",
        "\n",
        "# 3.4\n",
        "h = 176\n",
        "w = 88\n",
        "lst.append(h)\n",
        "lst.append(w)\n",
        "print(lst)\n",
        "\n",
        "# 3.5\n",
        "print(lst[2:])\n",
        "\n"
      ],
      "execution_count": 0,
      "outputs": [
        {
          "output_type": "stream",
          "text": [
            "My Name is DEEN\n",
            "LastName  SAMT\n",
            "Age  66\n",
            "['DEEN', 'SAMT']\n",
            "[56, 'DEEN', 66]\n",
            "[56, 'DEEN', 66, 176, 88]\n",
            "[66, 176, 88]\n"
          ],
          "name": "stdout"
        }
      ]
    },
    {
      "cell_type": "markdown",
      "metadata": {
        "id": "DLoPDG9RVqAH",
        "colab_type": "text"
      },
      "source": [
        "**Quiz 4**"
      ]
    },
    {
      "cell_type": "code",
      "metadata": {
        "id": "7eCx4_ZAVt-N",
        "colab_type": "code",
        "outputId": "28bcaa16-4cf0-444a-dbb3-5443e349048f",
        "colab": {
          "base_uri": "https://localhost:8080/",
          "height": 102
        }
      },
      "source": [
        "# 4.1\n",
        "a = [[[1,3],[3,4]],[5,[5,6],[7,8]]] \n",
        "print(a[1][1][1])\n",
        "\n",
        "\n",
        "# 4.2\n",
        "\n",
        "n1 = ['DEEN',66, 'SAMT']\n",
        "n2 = ['X',23,'Arch']\n",
        "n3 = ['Code',25, 'Camp']\n",
        "n4 = ['Py',33, 'Thon']\n",
        "nlist = [n1,n2,n3,n4]\n",
        "print('All',nlist)\n",
        "\n",
        "'''\n",
        "n1 = [\n",
        "      ['DEEN', 'SAMT'], \n",
        "      ['X', 'Arch'], \n",
        "      ['Code', 'Camp'], \n",
        "      ['Py', 'Thon']\n",
        "    ]\n",
        "    '''\n",
        "\n",
        "# 4.3\n",
        "del nlist[3]\n",
        "print(nlist)\n",
        "\n",
        "# 4.4\n",
        "\n",
        "n5 =  [\"O\" , 70, \"Wen\"]\n",
        "nlist.insert(0, n5)\n",
        "print(\"Added \" , nlist)\n",
        "\n",
        "\n",
        "# 4.5\n",
        "nlist[1][1] =  nlist[1][1]+10\n",
        "print(\"Fix age 2nd +10\" , nlist)\n"
      ],
      "execution_count": 0,
      "outputs": [
        {
          "output_type": "stream",
          "text": [
            "6\n",
            "All [['DEEN', 66, 'SAMT'], ['X', 23, 'Arch'], ['Code', 25, 'Camp'], ['Py', 33, 'Thon']]\n",
            "[['DEEN', 66, 'SAMT'], ['X', 23, 'Arch'], ['Code', 25, 'Camp']]\n",
            "Added  [['O', 70, 'Wen'], ['DEEN', 66, 'SAMT'], ['X', 23, 'Arch'], ['Code', 25, 'Camp']]\n",
            "Fix age 2nd +10 [['O', 70, 'Wen'], ['DEEN', 76, 'SAMT'], ['X', 23, 'Arch'], ['Code', 25, 'Camp']]\n"
          ],
          "name": "stdout"
        }
      ]
    },
    {
      "cell_type": "markdown",
      "metadata": {
        "id": "MXEZ_VI0XG3C",
        "colab_type": "text"
      },
      "source": [
        "**Quiz 5**"
      ]
    },
    {
      "cell_type": "code",
      "metadata": {
        "id": "vRBl0xZqjQWf",
        "colab_type": "code",
        "colab": {
          "base_uri": "https://localhost:8080/",
          "height": 34
        },
        "outputId": "97b8b740-aa67-4153-b82b-191ddcfb8b2c"
      },
      "source": [
        "#Test\n",
        "import operator\n",
        "lst = [1,2,3,4,5,6,7,8,9,10]\n",
        "opower3 = map(lambda x:operator.pow(x,3), lst)\n",
        "print(list(opower3))"
      ],
      "execution_count": 15,
      "outputs": [
        {
          "output_type": "stream",
          "text": [
            "[1, 8, 27, 64, 125, 216, 343, 512, 729, 1000]\n"
          ],
          "name": "stdout"
        }
      ]
    },
    {
      "cell_type": "code",
      "metadata": {
        "id": "McbDHo6-XJfh",
        "colab_type": "code",
        "colab": {
          "base_uri": "https://localhost:8080/",
          "height": 85
        },
        "outputId": "befa338d-4e27-4a5a-a5e1-3071549ce58b"
      },
      "source": [
        "#Quiz 5\n",
        "# 5.1\n",
        "lst = [1,2,3,4,5,6,7,8,9,10]\n",
        "\n",
        "#lamda\n",
        "power3 = map(lambda x:x**3, lst)\n",
        "print(list(power3))\n",
        "\n",
        "\n",
        "#normal function\n",
        "def func(a):\n",
        "    power3 = a**3\n",
        "    return power3\n",
        "print(list(map(func,lst)))\n",
        "\n",
        "# 5.2\n",
        "#lamda\n",
        "mod2 = filter(lambda y:((y**2)%2  != 0), lst)\n",
        "print(list(mod2))\n",
        "\n",
        "#normal function\n",
        "def func2(b):\n",
        "    mod2 = ((b**2)%2 != 0)\n",
        "    return mod2\n",
        "print(list(filter(func2,lst)))\n",
        "\n",
        "\n"
      ],
      "execution_count": 29,
      "outputs": [
        {
          "output_type": "stream",
          "text": [
            "[1, 8, 27, 64, 125, 216, 343, 512, 729, 1000]\n",
            "[1, 8, 27, 64, 125, 216, 343, 512, 729, 1000]\n",
            "[1, 3, 5, 7, 9]\n",
            "[1, 3, 5, 7, 9]\n"
          ],
          "name": "stdout"
        }
      ]
    },
    {
      "cell_type": "markdown",
      "metadata": {
        "id": "R7G6VllY5Uyk",
        "colab_type": "text"
      },
      "source": [
        "**Quiz 6**"
      ]
    },
    {
      "cell_type": "code",
      "metadata": {
        "id": "IijVD76o5ULq",
        "colab_type": "code",
        "colab": {
          "base_uri": "https://localhost:8080/",
          "height": 51
        },
        "outputId": "20ce53ae-54e7-4fa0-ac64-877d9a3e71c1"
      },
      "source": [
        "#6.1\n",
        "lst = [1,2,3,4,5]\n",
        "lst2 = [(x*2)-1 for x in lst]\n",
        "print(lst2)\n",
        "\n",
        "#6.2\n",
        "lst = [1,2,3,4,5,6,7,8,9,10,11,12,13]\n",
        "lst2 = [x**3 for x in lst if x%3 != 0]\n",
        "print(lst2)"
      ],
      "execution_count": 34,
      "outputs": [
        {
          "output_type": "stream",
          "text": [
            "[1, 3, 5, 7, 9]\n",
            "[1, 8, 64, 125, 343, 512, 1000, 1331, 2197]\n"
          ],
          "name": "stdout"
        }
      ]
    },
    {
      "cell_type": "markdown",
      "metadata": {
        "id": "4Oe02n0b8NJp",
        "colab_type": "text"
      },
      "source": [
        "**Quiz7**"
      ]
    },
    {
      "cell_type": "code",
      "metadata": {
        "id": "I2R0HwmP8LnN",
        "colab_type": "code",
        "colab": {
          "base_uri": "https://localhost:8080/",
          "height": 51
        },
        "outputId": "f8ef3e81-e730-4925-943e-83cc59595245"
      },
      "source": [
        "#Quiz7\n",
        "score = int(input(\"What is score ? \"))\n",
        "\n",
        "if score > 80:\n",
        "  print(\"A\")\n",
        "elif score > 70:\n",
        "  print(\"B\")\n",
        "elif score > 60:\n",
        "  print(\"C\")\n",
        "elif score >= 50:\n",
        "  print(\"D\")\n",
        "else:\n",
        "  print(\"F\")"
      ],
      "execution_count": 35,
      "outputs": [
        {
          "output_type": "stream",
          "text": [
            "What is score 80\n",
            "B\n"
          ],
          "name": "stdout"
        }
      ]
    },
    {
      "cell_type": "markdown",
      "metadata": {
        "id": "uvNmFkXd-MR6",
        "colab_type": "text"
      },
      "source": [
        "**Quiz8**"
      ]
    },
    {
      "cell_type": "code",
      "metadata": {
        "id": "FwFv3P5G-Ql8",
        "colab_type": "code",
        "colab": {
          "base_uri": "https://localhost:8080/",
          "height": 51
        },
        "outputId": "98a4d3fb-de14-4edd-dc15-f1cd2c7d3b66"
      },
      "source": [
        "#8.1\n",
        "A = [1, 2, 3, 4, 5]\n",
        "B = [2, 3, 1, 3, 2]\n",
        "\n",
        "result = map(lambda a, b: a**b, B, A)\n",
        "print(list(result))\n",
        "\n",
        "\n",
        "#8.2\n",
        "name = ['DEEN', 'X', 'Code', 'Py', 'Eng']\n",
        "no = [1, 2, 3 , 4, 5]\n",
        "score = [100, 66, 50, 99, 80]\n",
        "\n",
        "mapped = list(zip(name,no,score))\n",
        "print(mapped)"
      ],
      "execution_count": 37,
      "outputs": [
        {
          "output_type": "stream",
          "text": [
            "[2, 9, 1, 81, 32]\n",
            "[('DEEN', 1, 100), ('X', 2, 66), ('Code', 3, 50), ('Py', 4, 99), ('Eng', 5, 80)]\n"
          ],
          "name": "stdout"
        }
      ]
    }
  ]
}