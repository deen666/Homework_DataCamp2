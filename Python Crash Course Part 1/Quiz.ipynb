{
  "nbformat": 4,
  "nbformat_minor": 0,
  "metadata": {
    "colab": {
      "name": "Quiz.ipynb",
      "provenance": [],
      "authorship_tag": "ABX9TyMESEbsyJHCN3GI8B07c/t2"
    },
    "kernelspec": {
      "name": "python3",
      "display_name": "Python 3"
    }
  },
  "cells": [
    {
      "cell_type": "markdown",
      "metadata": {
        "id": "4musXC3J1ktf",
        "colab_type": "text"
      },
      "source": [
        "**Quiz 1**"
      ]
    },
    {
      "cell_type": "code",
      "metadata": {
        "id": "730SAl1O1eLB",
        "colab_type": "code",
        "colab": {}
      },
      "source": [
        "\n",
        "\n",
        "#1.1 2345 %% 13\n",
        "Q1 = 2345%13\n",
        "\n",
        "#1.2\n",
        "Q2 = int(1567//17)\n",
        "\n",
        "#1.3   #ไม่ใช่ตัวแปรเดียวกัน\n",
        "Firstname = \"D\"\n",
        "FirstName = \"2EN\"\n",
        "print(Firstname, FirstName)\n",
        "\n",
        "\n",
        "#1.4 #ไม่ถูกต้อง 13Friday is illegal variable name\n",
        "'''\n",
        "13Friday = 13 \n",
        "\n",
        "13Friday = 13\n",
        "           ^\n",
        "SyntaxError: invalid syntax\n",
        "'''\n",
        "\n",
        "#1.5\n",
        "Q5 = print('Answer1 is {} Answer2 is {}'.format(Q1,Q2))\n",
        "\n",
        "#check type\n",
        "print(type(Q1))\n",
        "print(type(Q2))"
      ],
      "execution_count": 0,
      "outputs": []
    },
    {
      "cell_type": "markdown",
      "metadata": {
        "id": "qJzdXrFY3toP",
        "colab_type": "text"
      },
      "source": [
        "**Quiz 2**"
      ]
    },
    {
      "cell_type": "code",
      "metadata": {
        "id": "I_q-dcFv35Fg",
        "colab_type": "code",
        "colab": {}
      },
      "source": [
        "# 2.1\n",
        "devide = lambda x: x/3\n",
        "print(devide(9))\n",
        "\n",
        "# 2.2\n",
        "def avg(a,b,c,d):\n",
        "  return a+b+c+d/4\n",
        "print(avg(1,2,3,4))\n",
        "\n",
        "\n",
        "# 2.3\n",
        "avg_lamda = lambda x,y,z : (x + y + z)/3\n",
        "print(int(avg_lamda(15,30,45)))\n"
      ],
      "execution_count": 0,
      "outputs": []
    },
    {
      "cell_type": "markdown",
      "metadata": {
        "id": "3zrzuaPLB7aN",
        "colab_type": "text"
      },
      "source": [
        "**Quiz 3**"
      ]
    },
    {
      "cell_type": "code",
      "metadata": {
        "id": "6XoLAXlSB-lO",
        "colab_type": "code",
        "outputId": "a53b62c2-c3a6-4adb-e8f2-112ee4413047",
        "colab": {
          "base_uri": "https://localhost:8080/",
          "height": 136
        }
      },
      "source": [
        "# 3.1 Create list\n",
        "lst = ['DEEN',66,'SAMT']\n",
        "print('My Name is',lst[0] + '\\nLastName ',lst[2] + '\\nAge ',lst[1])\n",
        "\n",
        "# 3.2\n",
        "del lst[1]\n",
        "print(lst)\n",
        "# or lst.remove(66)  \n",
        "# The remove() method removes the specified item: https://www.w3schools.com/python/python_lists.asp\n",
        "\n",
        "# 3.3\n",
        "lst[1] = 66\n",
        "NewAge =  lst[1]-10\n",
        "lst.insert(0,NewAge)\n",
        "print(lst)\n",
        "\n",
        "# 3.4\n",
        "h = 176\n",
        "w = 88\n",
        "lst.append(h)\n",
        "lst.append(w)\n",
        "print(lst)\n",
        "\n",
        "# 3.5\n",
        "print(lst[2:])\n",
        "\n"
      ],
      "execution_count": 67,
      "outputs": [
        {
          "output_type": "stream",
          "text": [
            "My Name is DEEN\n",
            "LastName  SAMT\n",
            "Age  66\n",
            "['DEEN', 'SAMT']\n",
            "[56, 'DEEN', 66]\n",
            "[56, 'DEEN', 66, 176, 88]\n",
            "[66, 176, 88]\n"
          ],
          "name": "stdout"
        }
      ]
    },
    {
      "cell_type": "markdown",
      "metadata": {
        "id": "DLoPDG9RVqAH",
        "colab_type": "text"
      },
      "source": [
        "**Quiz 4**"
      ]
    },
    {
      "cell_type": "code",
      "metadata": {
        "id": "7eCx4_ZAVt-N",
        "colab_type": "code",
        "colab": {
          "base_uri": "https://localhost:8080/",
          "height": 102
        },
        "outputId": "28bcaa16-4cf0-444a-dbb3-5443e349048f"
      },
      "source": [
        "# 4.1\n",
        "a = [[[1,3],[3,4]],[5,[5,6],[7,8]]] \n",
        "print(a[1][1][1])\n",
        "\n",
        "\n",
        "# 4.2\n",
        "\n",
        "n1 = ['DEEN',66, 'SAMT']\n",
        "n2 = ['X',23,'Arch']\n",
        "n3 = ['Code',25, 'Camp']\n",
        "n4 = ['Py',33, 'Thon']\n",
        "nlist = [n1,n2,n3,n4]\n",
        "print('All',nlist)\n",
        "\n",
        "'''\n",
        "n1 = [\n",
        "      ['DEEN', 'SAMT'], \n",
        "      ['X', 'Arch'], \n",
        "      ['Code', 'Camp'], \n",
        "      ['Py', 'Thon']\n",
        "    ]\n",
        "    '''\n",
        "\n",
        "# 4.3\n",
        "del nlist[3]\n",
        "print(nlist)\n",
        "\n",
        "# 4.4\n",
        "\n",
        "n5 =  [\"O\" , 70, \"Wen\"]\n",
        "nlist.insert(0, n5)\n",
        "print(\"Added \" , nlist)\n",
        "\n",
        "\n",
        "# 4.5\n",
        "nlist[1][1] =  nlist[1][1]+10\n",
        "print(\"Fix age 2nd +10\" , nlist)\n"
      ],
      "execution_count": 68,
      "outputs": [
        {
          "output_type": "stream",
          "text": [
            "6\n",
            "All [['DEEN', 66, 'SAMT'], ['X', 23, 'Arch'], ['Code', 25, 'Camp'], ['Py', 33, 'Thon']]\n",
            "[['DEEN', 66, 'SAMT'], ['X', 23, 'Arch'], ['Code', 25, 'Camp']]\n",
            "Added  [['O', 70, 'Wen'], ['DEEN', 66, 'SAMT'], ['X', 23, 'Arch'], ['Code', 25, 'Camp']]\n",
            "Fix age 2nd +10 [['O', 70, 'Wen'], ['DEEN', 76, 'SAMT'], ['X', 23, 'Arch'], ['Code', 25, 'Camp']]\n"
          ],
          "name": "stdout"
        }
      ]
    }
  ]
}