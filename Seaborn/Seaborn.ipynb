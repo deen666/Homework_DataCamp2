{
  "nbformat": 4,
  "nbformat_minor": 0,
  "metadata": {
    "colab": {
      "name": "Seaborn.ipynb",
      "provenance": [],
      "authorship_tag": "ABX9TyM/xL/htWUy2MdD3JIePFGM"
    },
    "kernelspec": {
      "name": "python3",
      "display_name": "Python 3"
    }
  },
  "cells": [
    {
      "cell_type": "code",
      "metadata": {
        "id": "LQpEum8KNcxf",
        "colab_type": "code",
        "colab": {}
      },
      "source": [
        "#Run this cell first.\n",
        "import numpy as np\n",
        "import pandas as pd\n",
        "import matplotlib.pyplot as plt\n",
        "import seaborn as sns\n",
        "%matplotlib inline"
      ],
      "execution_count": 0,
      "outputs": []
    },
    {
      "cell_type": "markdown",
      "metadata": {
        "id": "zJtreFirvG20",
        "colab_type": "text"
      },
      "source": [
        "**Quiz 1**\n",
        "\n",
        "สร้าง DataFrame ที่เก็บยอดขายของบริษัท A,B,C,D ของปี 2014,2015,2016,2017 โดยชื่อบริษัทเป็น index และปีเป็น column. สร้างคำสั่ง numpy สุ่มเลขแบบ float ให้เป็นรายได้ของบริษัทที่อยู่ในช่วง 50 – 500 (หน่วยล้านบาท) "
      ]
    },
    {
      "cell_type": "code",
      "metadata": {
        "id": "GOEm6ivUvIV8",
        "colab_type": "code",
        "colab": {
          "base_uri": "https://localhost:8080/",
          "height": 173
        },
        "outputId": "573d788f-1233-4c86-c8dd-2fa47824e5d0"
      },
      "source": [
        "#Quiz 1\n",
        "sales = np.random.uniform(50,500,(4,4))\n",
        "name = ['A', 'B', 'C', 'D']\n",
        "year = ['2014', '2015', '2016', '2017']\n",
        "df = pd.DataFrame(sales, name, year)\n",
        "df\n",
        "#print(df.index)"
      ],
      "execution_count": 36,
      "outputs": [
        {
          "output_type": "execute_result",
          "data": {
            "text/html": [
              "<div>\n",
              "<style scoped>\n",
              "    .dataframe tbody tr th:only-of-type {\n",
              "        vertical-align: middle;\n",
              "    }\n",
              "\n",
              "    .dataframe tbody tr th {\n",
              "        vertical-align: top;\n",
              "    }\n",
              "\n",
              "    .dataframe thead th {\n",
              "        text-align: right;\n",
              "    }\n",
              "</style>\n",
              "<table border=\"1\" class=\"dataframe\">\n",
              "  <thead>\n",
              "    <tr style=\"text-align: right;\">\n",
              "      <th></th>\n",
              "      <th>2014</th>\n",
              "      <th>2015</th>\n",
              "      <th>2016</th>\n",
              "      <th>2017</th>\n",
              "    </tr>\n",
              "  </thead>\n",
              "  <tbody>\n",
              "    <tr>\n",
              "      <th>A</th>\n",
              "      <td>451.447494</td>\n",
              "      <td>217.242796</td>\n",
              "      <td>126.493055</td>\n",
              "      <td>349.519133</td>\n",
              "    </tr>\n",
              "    <tr>\n",
              "      <th>B</th>\n",
              "      <td>338.088594</td>\n",
              "      <td>289.471735</td>\n",
              "      <td>361.891673</td>\n",
              "      <td>149.579507</td>\n",
              "    </tr>\n",
              "    <tr>\n",
              "      <th>C</th>\n",
              "      <td>490.795927</td>\n",
              "      <td>289.910488</td>\n",
              "      <td>88.533416</td>\n",
              "      <td>289.356072</td>\n",
              "    </tr>\n",
              "    <tr>\n",
              "      <th>D</th>\n",
              "      <td>344.350859</td>\n",
              "      <td>60.963566</td>\n",
              "      <td>173.138160</td>\n",
              "      <td>385.067254</td>\n",
              "    </tr>\n",
              "  </tbody>\n",
              "</table>\n",
              "</div>"
            ],
            "text/plain": [
              "         2014        2015        2016        2017\n",
              "A  451.447494  217.242796  126.493055  349.519133\n",
              "B  338.088594  289.471735  361.891673  149.579507\n",
              "C  490.795927  289.910488   88.533416  289.356072\n",
              "D  344.350859   60.963566  173.138160  385.067254"
            ]
          },
          "metadata": {
            "tags": []
          },
          "execution_count": 36
        }
      ]
    },
    {
      "cell_type": "markdown",
      "metadata": {
        "id": "fSQOQipNwDO3",
        "colab_type": "text"
      },
      "source": [
        "**Quiz2**\n",
        "\n",
        " ใช้ข้อมูลจาก DataFrame ด้านบนสร้าง Bar plot ให้แกน x เป็น ชื่อบริษัท ยอดขายเฉลี่ยเป็นแกน Y โดยสร้างกราฟแบบแนวตั้งและแนวนอน"
      ]
    },
    {
      "cell_type": "code",
      "metadata": {
        "id": "TCWWB6LBwNIe",
        "colab_type": "code",
        "colab": {
          "base_uri": "https://localhost:8080/",
          "height": 173
        },
        "outputId": "87438255-ca30-4b47-c2b5-e5d63c0a3832"
      },
      "source": [
        "df2 = df.copy()\n",
        "df2['AVG'] = df2.mean(numeric_only=True, axis=1)\n",
        "df2\n"
      ],
      "execution_count": 52,
      "outputs": [
        {
          "output_type": "execute_result",
          "data": {
            "text/html": [
              "<div>\n",
              "<style scoped>\n",
              "    .dataframe tbody tr th:only-of-type {\n",
              "        vertical-align: middle;\n",
              "    }\n",
              "\n",
              "    .dataframe tbody tr th {\n",
              "        vertical-align: top;\n",
              "    }\n",
              "\n",
              "    .dataframe thead th {\n",
              "        text-align: right;\n",
              "    }\n",
              "</style>\n",
              "<table border=\"1\" class=\"dataframe\">\n",
              "  <thead>\n",
              "    <tr style=\"text-align: right;\">\n",
              "      <th></th>\n",
              "      <th>2014</th>\n",
              "      <th>2015</th>\n",
              "      <th>2016</th>\n",
              "      <th>2017</th>\n",
              "      <th>AVG</th>\n",
              "    </tr>\n",
              "  </thead>\n",
              "  <tbody>\n",
              "    <tr>\n",
              "      <th>A</th>\n",
              "      <td>451.447494</td>\n",
              "      <td>217.242796</td>\n",
              "      <td>126.493055</td>\n",
              "      <td>349.519133</td>\n",
              "      <td>286.175620</td>\n",
              "    </tr>\n",
              "    <tr>\n",
              "      <th>B</th>\n",
              "      <td>338.088594</td>\n",
              "      <td>289.471735</td>\n",
              "      <td>361.891673</td>\n",
              "      <td>149.579507</td>\n",
              "      <td>284.757877</td>\n",
              "    </tr>\n",
              "    <tr>\n",
              "      <th>C</th>\n",
              "      <td>490.795927</td>\n",
              "      <td>289.910488</td>\n",
              "      <td>88.533416</td>\n",
              "      <td>289.356072</td>\n",
              "      <td>289.648976</td>\n",
              "    </tr>\n",
              "    <tr>\n",
              "      <th>D</th>\n",
              "      <td>344.350859</td>\n",
              "      <td>60.963566</td>\n",
              "      <td>173.138160</td>\n",
              "      <td>385.067254</td>\n",
              "      <td>240.879960</td>\n",
              "    </tr>\n",
              "  </tbody>\n",
              "</table>\n",
              "</div>"
            ],
            "text/plain": [
              "         2014        2015        2016        2017         AVG\n",
              "A  451.447494  217.242796  126.493055  349.519133  286.175620\n",
              "B  338.088594  289.471735  361.891673  149.579507  284.757877\n",
              "C  490.795927  289.910488   88.533416  289.356072  289.648976\n",
              "D  344.350859   60.963566  173.138160  385.067254  240.879960"
            ]
          },
          "metadata": {
            "tags": []
          },
          "execution_count": 52
        }
      ]
    },
    {
      "cell_type": "code",
      "metadata": {
        "id": "ffWsyYRixWLL",
        "colab_type": "code",
        "colab": {
          "base_uri": "https://localhost:8080/",
          "height": 283
        },
        "outputId": "f85d469b-83d4-4ec5-ce2a-250017f8f39a"
      },
      "source": [
        "#Quiz2\n",
        "sns.barplot(df2.index,df2['AVG'],data=df2)"
      ],
      "execution_count": 57,
      "outputs": [
        {
          "output_type": "execute_result",
          "data": {
            "text/plain": [
              "<matplotlib.axes._subplots.AxesSubplot at 0x7fadaa596a20>"
            ]
          },
          "metadata": {
            "tags": []
          },
          "execution_count": 57
        },
        {
          "output_type": "display_data",
          "data": {
            "image/png": "[encoded data removed]",
            "text/plain": [
              "<Figure size 432x288 with 1 Axes>"
            ]
          },
          "metadata": {
            "tags": [],
            "needs_background": "light"
          }
        }
      ]
    },
    {
      "cell_type": "code",
      "metadata": {
        "id": "62nefnWF1qID",
        "colab_type": "code",
        "colab": {
          "base_uri": "https://localhost:8080/",
          "height": 296
        },
        "outputId": "2e14f1ca-b461-41e3-ab18-c42c65b7f01c"
      },
      "source": [
        "#Quiz2\n",
        "sns.barplot(df2['AVG'],df2.index,data=df2)"
      ],
      "execution_count": 58,
      "outputs": [
        {
          "output_type": "execute_result",
          "data": {
            "text/plain": [
              "<matplotlib.axes._subplots.AxesSubplot at 0x7fadaa5f79e8>"
            ]
          },
          "metadata": {
            "tags": []
          },
          "execution_count": 58
        },
        {
          "output_type": "display_data",
          "data": {
            "image/png": "[encoded data removed]",
            "text/plain": [
              "<Figure size 432x288 with 1 Axes>"
            ]
          },
          "metadata": {
            "tags": [],
            "needs_background": "light"
          }
        }
      ]
    }
  ]
}