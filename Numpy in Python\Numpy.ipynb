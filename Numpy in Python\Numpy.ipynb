{
  "nbformat": 4,
  "nbformat_minor": 0,
  "metadata": {
    "colab": {
      "name": "Numpy.ipynb",
      "provenance": [],
      "authorship_tag": "ABX9TyNqDU+XzVRM3gNY5c3+lCqx"
    },
    "kernelspec": {
      "name": "python3",
      "display_name": "Python 3"
    }
  },
  "cells": [
    {
      "cell_type": "markdown",
      "metadata": {
        "id": "Z6ngygzCeaC3",
        "colab_type": "text"
      },
      "source": [
        "1. จงเขียน array ที่มีแต่เลข 0 แบบ vector 10 ตัว และ แบบ Matrix 4x4\n",
        "\n",
        "2. จงเขียน array ที่มีแต่เลข 1 แบบ vector 5 ตัว และ แบบ Matrix 3x3\n",
        "\n",
        "3. จงเขียน array ที่มีเป็นการ random ตัวเลข 20 ตัว แบบ float ค่าอยู่ในช่วง 10-99 แล้วนำแต่ละเลขยกกำลังสอง\n",
        "\n",
        "4. ทำเหมือนข้อ 3 แต่เขียนแบบ List comprehension\n",
        "\n",
        "5. นำข้อ 3 และ 4 มาเปรียบเวลากัน โดยใช้ฟังก์ชั่น time.time( ) เพื่อจับเวลา แสดงผลลัพธ์ในรูปแบบมิลลิวินาที\n",
        "\n",
        "6. จงเขียน array ที่ใช้ฟังก์ชั่นใน numpy ได้เลข 10 ถึง 1000  \n",
        "\n",
        "7. จงเขียน array ที่ใช้ฟังก์ชั่นใน numpy ได้เลขคู่ 10 ถึง 2000 \n",
        "\n",
        "8. จงเขียน array ที่ใช้ฟังก์ชั่นใน numpy ได้เลขคี่ 12 ถึง 900\n",
        "\n",
        "9. จงสร้าง identity matrix แบบ 4x4\n",
        "\n",
        "10. จงหาว่า array ที่มีสมาชิก 100 ตัว เริ่มจาก 5 ถึง 25 มีผลต่างแต่ละตัวเท่ากับเท่าใด\n",
        "\n",
        "11. จงเขียนฟังก์ชั่น random ตัวเลขแบบ float ในช่วง 0-1 ขึ้นมา 1 ตัว\n",
        "\n",
        "12. จงเขียนฟังก์ชั่นที่ random ตัวเลขแบบ int ในช่วง 50-100 โดยให้อยู่ในรูป Matrix 4x4 และ Transpose\n",
        "\n",
        "13. ให้ array ที่กำหนด จงเขียนโค้ดที่เลือกเฉพาะ 8,9,13,14 \n",
        "\n",
        "14. ให้ array ที่กำหนด จงเขียนโค้ดที่เลือกเฉพาะ 18,19,20\n",
        "\n",
        "15. ให้ array ที่กำหนด จงเขียนโค้ดที่เลือกเฉพาะ 16,17,21,22\n",
        "\n",
        "16. ให้ array ที่กำหนด จงเขียนโค้ดที่เลือกทั้งแถว 3\n",
        "\n",
        "17. จงเขียนโค้ดที่ทำให้ได้ array นี้ออกมา\n",
        "\n",
        "18. จงเขียนโปรแกรมสุ่มเลขจำนวนเต็มในช่วง 10-100 ออกมาอยู่ใน matrix 5x5 และใช้ If-else เช็คทีละตัวว่าตัวใดบ้างที่มีค่ามากกว่า\n",
        "      50 และปริ้นออกมา\n",
        "\n",
        "19. จงเขียนโปรแกรมสุ่มเลขจำนวนเต็มในช่วง 10-100 ออกมาอยู่ใน matrix 5x5 และใช้ conditional selection เช็คว่าตัวใดบ้างมีค่า  \n",
        "      มากกว่า 40 นำมาใส่ List ที่สร้างใหม่ และปริ้นออกมา\n",
        "\n",
        "20. เขียนโปรแกรมรับค่าจากผู้ใช้ให้ป้อนเลข 9 ตัว แต่ละตัวต้องไม่ซ้ำกันและมีค่าอยู่ในช่วง 10-100 นำเลข 9 ตัวนั้นมาทำเป็น matrix \n",
        "      3x3 และ transport และหาเลขอยู่ตำแหน่งที่ (2,2)\n"
      ]
    },
    {
      "cell_type": "markdown",
      "metadata": {
        "id": "nqkBpz-JeSJi",
        "colab_type": "text"
      },
      "source": [
        "**Quiz1**\n",
        "\n",
        "จงเขียน array ที่มีแต่เลข 0 แบบ vector 10 ตัว และ แบบ Matrix 4x4"
      ]
    },
    {
      "cell_type": "code",
      "metadata": {
        "id": "fEd3Nlg3fEI1",
        "colab_type": "code",
        "colab": {}
      },
      "source": [
        "import numpy as np"
      ],
      "execution_count": 0,
      "outputs": []
    },
    {
      "cell_type": "code",
      "metadata": {
        "id": "of7FgsxfK83f",
        "colab_type": "code",
        "outputId": "70693e55-9f49-4b40-c417-7d8f59e076c7",
        "colab": {
          "base_uri": "https://localhost:8080/",
          "height": 102
        }
      },
      "source": [
        "print(np.zeros(10))\n",
        "print(np.zeros((4,4)))"
      ],
      "execution_count": 5,
      "outputs": [
        {
          "output_type": "stream",
          "text": [
            "[0. 0. 0. 0. 0. 0. 0. 0. 0. 0.]\n",
            "[[0. 0. 0. 0.]\n",
            " [0. 0. 0. 0.]\n",
            " [0. 0. 0. 0.]\n",
            " [0. 0. 0. 0.]]\n"
          ],
          "name": "stdout"
        }
      ]
    },
    {
      "cell_type": "markdown",
      "metadata": {
        "id": "BND57VGXfGyG",
        "colab_type": "text"
      },
      "source": [
        "**Quiz2**\n",
        "\n",
        "จงเขียน array ที่มีแต่เลข 1 แบบ vector 5 ตัว และ แบบ Matrix 3x3"
      ]
    },
    {
      "cell_type": "code",
      "metadata": {
        "id": "7UV7QxSJfJNk",
        "colab_type": "code",
        "colab": {
          "base_uri": "https://localhost:8080/",
          "height": 85
        },
        "outputId": "a6f392b5-cab8-4074-bd5d-ea2f9ef6f408"
      },
      "source": [
        "print(np.ones(5))\n",
        "print(np.ones((3,3)))"
      ],
      "execution_count": 6,
      "outputs": [
        {
          "output_type": "stream",
          "text": [
            "[1. 1. 1. 1. 1.]\n",
            "[[1. 1. 1.]\n",
            " [1. 1. 1.]\n",
            " [1. 1. 1.]]\n"
          ],
          "name": "stdout"
        }
      ]
    },
    {
      "cell_type": "markdown",
      "metadata": {
        "id": "XsdCRBNyfqc2",
        "colab_type": "text"
      },
      "source": [
        "**Quiz3**\n",
        "\n",
        "จงเขียน array ที่มีเป็นการ random ตัวเลข 20 ตัว แบบ float ค่าอยู่ในช่วง 10-99 แล้วนำแต่ละเลขยกกำลังสอง"
      ]
    },
    {
      "cell_type": "code",
      "metadata": {
        "id": "COZbCtvmfsaW",
        "colab_type": "code",
        "colab": {
          "base_uri": "https://localhost:8080/",
          "height": 187
        },
        "outputId": "8f3e995e-0573-4352-a522-45b351fcc0e0"
      },
      "source": [
        "x, y = 10, 99\n",
        "rand20 = (y-x)*np.random.rand(20) + x\n",
        "power2 = rand20 ** 2\n",
        "print('Random 20 numbers in range 10-99\\n',rand20_range99)\n",
        "print('Power by 2\\n',power2)"
      ],
      "execution_count": 48,
      "outputs": [
        {
          "output_type": "stream",
          "text": [
            "Random 20 numbers in range 10-99\n",
            " [81.08042025 25.6703361  16.58172702 82.97831507 58.61692715 82.48062602\n",
            " 54.16847143 90.75360628 15.60480168 29.17797178 12.82450535 10.57781464\n",
            " 16.50835863 95.57156207 97.74798437 76.55210803 15.12427702 37.96706962\n",
            " 28.82775646 63.76896627]\n",
            "Power by 2\n",
            " [3558.13062785 6671.44759709 4657.568878   3266.37686398  667.70834483\n",
            " 2437.81068313 8413.01967945 4734.33312867  761.55262091 2249.81632156\n",
            " 5457.97288017 2815.33821395  184.90972972 9314.68268844 7942.59797268\n",
            " 4750.69268678 5888.61669227 9491.59066333 3676.19716334 5771.18909715]\n"
          ],
          "name": "stdout"
        }
      ]
    }
  ]
}