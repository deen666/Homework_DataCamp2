{
  "nbformat": 4,
  "nbformat_minor": 0,
  "metadata": {
    "colab": {
      "name": "Numpy.ipynb",
      "provenance": [],
      "authorship_tag": "ABX9TyPRYcggKMPgG9VKn3nAt4Pm"
    },
    "kernelspec": {
      "name": "python3",
      "display_name": "Python 3"
    }
  },
  "cells": [
    {
      "cell_type": "markdown",
      "metadata": {
        "id": "Z6ngygzCeaC3",
        "colab_type": "text"
      },
      "source": [
        "#To-do\n",
        "5. นำข้อ 3 และ 4 มาเปรียบเวลากัน โดยใช้ฟังก์ชั่น time.time( ) เพื่อจับเวลา แสดงผลลัพธ์ในรูปแบบมิลลิวินาที\n",
        "\n",
        "6. จงเขียน array ที่ใช้ฟังก์ชั่นใน numpy ได้เลข 10 ถึง 1000  \n",
        "\n",
        "7. จงเขียน array ที่ใช้ฟังก์ชั่นใน numpy ได้เลขคู่ 10 ถึง 2000 \n",
        "\n",
        "8. จงเขียน array ที่ใช้ฟังก์ชั่นใน numpy ได้เลขคี่ 12 ถึง 900\n",
        "\n",
        "9. จงสร้าง identity matrix แบบ 4x4\n",
        "\n",
        "10. จงหาว่า array ที่มีสมาชิก 100 ตัว เริ่มจาก 5 ถึง 25 มีผลต่างแต่ละตัวเท่ากับเท่าใด\n",
        "\n",
        "11. จงเขียนฟังก์ชั่น random ตัวเลขแบบ float ในช่วง 0-1 ขึ้นมา 1 ตัว\n",
        "\n",
        "12. จงเขียนฟังก์ชั่นที่ random ตัวเลขแบบ int ในช่วง 50-100 โดยให้อยู่ในรูป Matrix 4x4 และ Transpose\n",
        "\n",
        "13. ให้ array ที่กำหนด จงเขียนโค้ดที่เลือกเฉพาะ 8,9,13,14 \n",
        "\n",
        "14. ให้ array ที่กำหนด จงเขียนโค้ดที่เลือกเฉพาะ 18,19,20\n",
        "\n",
        "15. ให้ array ที่กำหนด จงเขียนโค้ดที่เลือกเฉพาะ 16,17,21,22\n",
        "\n",
        "16. ให้ array ที่กำหนด จงเขียนโค้ดที่เลือกทั้งแถว 3\n",
        "\n",
        "17. จงเขียนโค้ดที่ทำให้ได้ array นี้ออกมา\n",
        "\n",
        "18. จงเขียนโปรแกรมสุ่มเลขจำนวนเต็มในช่วง 10-100 ออกมาอยู่ใน matrix 5x5 และใช้ If-else เช็คทีละตัวว่าตัวใดบ้างที่มีค่ามากกว่า\n",
        "      50 และปริ้นออกมา\n",
        "\n",
        "19. จงเขียนโปรแกรมสุ่มเลขจำนวนเต็มในช่วง 10-100 ออกมาอยู่ใน matrix 5x5 และใช้ conditional selection เช็คว่าตัวใดบ้างมีค่า  \n",
        "      มากกว่า 40 นำมาใส่ List ที่สร้างใหม่ และปริ้นออกมา\n",
        "\n",
        "20. เขียนโปรแกรมรับค่าจากผู้ใช้ให้ป้อนเลข 9 ตัว แต่ละตัวต้องไม่ซ้ำกันและมีค่าอยู่ในช่วง 10-100 นำเลข 9 ตัวนั้นมาทำเป็น matrix \n",
        "      3x3 และ transport และหาเลขอยู่ตำแหน่งที่ (2,2)\n"
      ]
    },
    {
      "cell_type": "markdown",
      "metadata": {
        "id": "nqkBpz-JeSJi",
        "colab_type": "text"
      },
      "source": [
        "**Quiz1**\n",
        "\n",
        "จงเขียน array ที่มีแต่เลข 0 แบบ vector 10 ตัว และ แบบ Matrix 4x4"
      ]
    },
    {
      "cell_type": "code",
      "metadata": {
        "id": "fEd3Nlg3fEI1",
        "colab_type": "code",
        "colab": {}
      },
      "source": [
        "import numpy as np"
      ],
      "execution_count": 0,
      "outputs": []
    },
    {
      "cell_type": "code",
      "metadata": {
        "id": "of7FgsxfK83f",
        "colab_type": "code",
        "outputId": "70693e55-9f49-4b40-c417-7d8f59e076c7",
        "colab": {
          "base_uri": "https://localhost:8080/",
          "height": 102
        }
      },
      "source": [
        "print(np.zeros(10))\n",
        "print(np.zeros((4,4)))"
      ],
      "execution_count": 0,
      "outputs": [
        {
          "output_type": "stream",
          "text": [
            "[0. 0. 0. 0. 0. 0. 0. 0. 0. 0.]\n",
            "[[0. 0. 0. 0.]\n",
            " [0. 0. 0. 0.]\n",
            " [0. 0. 0. 0.]\n",
            " [0. 0. 0. 0.]]\n"
          ],
          "name": "stdout"
        }
      ]
    },
    {
      "cell_type": "markdown",
      "metadata": {
        "id": "BND57VGXfGyG",
        "colab_type": "text"
      },
      "source": [
        "**Quiz2**\n",
        "\n",
        "จงเขียน array ที่มีแต่เลข 1 แบบ vector 5 ตัว และ แบบ Matrix 3x3"
      ]
    },
    {
      "cell_type": "code",
      "metadata": {
        "id": "7UV7QxSJfJNk",
        "colab_type": "code",
        "outputId": "a6f392b5-cab8-4074-bd5d-ea2f9ef6f408",
        "colab": {
          "base_uri": "https://localhost:8080/",
          "height": 85
        }
      },
      "source": [
        "print(np.ones(5))\n",
        "print(np.ones((3,3)))"
      ],
      "execution_count": 0,
      "outputs": [
        {
          "output_type": "stream",
          "text": [
            "[1. 1. 1. 1. 1.]\n",
            "[[1. 1. 1.]\n",
            " [1. 1. 1.]\n",
            " [1. 1. 1.]]\n"
          ],
          "name": "stdout"
        }
      ]
    },
    {
      "cell_type": "markdown",
      "metadata": {
        "id": "XsdCRBNyfqc2",
        "colab_type": "text"
      },
      "source": [
        "**Quiz3**\n",
        "\n",
        "จงเขียน array ที่มีเป็นการ random ตัวเลข 20 ตัว แบบ float ค่าอยู่ในช่วง 10-99 แล้วนำแต่ละเลขยกกำลังสอง"
      ]
    },
    {
      "cell_type": "code",
      "metadata": {
        "id": "Z6Faj6aVRQ9K",
        "colab_type": "code",
        "colab": {
          "base_uri": "https://localhost:8080/",
          "height": 187
        },
        "outputId": "ee17a5f3-1988-40e1-8dad-cdb9c7fe5fa0"
      },
      "source": [
        "rand_id1 = np.random.uniform(10,99,20)\n",
        "print('Random 20 numbers between 10 and 99\\n',rand_id1)\n",
        "print('Then power of 2!\\n',rand_id1**2)"
      ],
      "execution_count": 6,
      "outputs": [
        {
          "output_type": "stream",
          "text": [
            "Random 20 numbers between 10 and 99\n",
            " [82.43454606 22.38305533 43.5691076  16.00186414 46.24760684 27.27610587\n",
            " 38.42705028 25.66351794 77.24700916 79.19587886 77.21328615 19.68288878\n",
            " 33.72232068 91.27701949 80.53236759 50.94959573 15.8035647  23.47146528\n",
            " 92.56733376 48.00035672]\n",
            "Then power of 2!\n",
            " [6795.45438479  501.00116596 1898.26713668  256.0596558  2138.84113824\n",
            "  743.98595121 1476.63819318  658.61615325 5967.10042455 6271.98722775\n",
            " 5961.89155749  387.41611075 1137.19491207 8331.4942869  6485.46222958\n",
            " 2595.86130501  249.75265724  550.9096825  8568.7112794  2304.0342451 ]\n"
          ],
          "name": "stdout"
        }
      ]
    },
    {
      "cell_type": "code",
      "metadata": {
        "id": "COZbCtvmfsaW",
        "colab_type": "code",
        "outputId": "83cba209-c5e8-4fa8-938d-6c4b27636a33",
        "colab": {
          "base_uri": "https://localhost:8080/",
          "height": 187
        }
      },
      "source": [
        "x, y = 10, 99\n",
        "rand20 = (np.random.rand(20)*(y-x)) + x\n",
        "power2 = rand20 ** 2\n",
        "print('Random 20 numbers between 10 and 99\\n',rand20)\n",
        "print('Then power of 2!\\n',power2)"
      ],
      "execution_count": 5,
      "outputs": [
        {
          "output_type": "stream",
          "text": [
            "Random 20 numbers between 10 and 99\n",
            " [33.50362632 41.3039099  58.60449497 35.77145477 90.52483258 74.05057647\n",
            " 98.70658265 41.40788944 77.31012226 51.81193913 20.43541012 23.48749463\n",
            " 67.63313745 15.95030317 88.95546559 70.24215277 65.68888474 22.25248814\n",
            " 29.24229663 14.50813361]\n",
            "Then power of 2!\n",
            " [1122.49297661 1706.01297319 3434.48683084 1279.59697641 8194.74531297\n",
            " 5483.48787518 9742.98945924 1714.61330785 5976.85500381 2684.47703668\n",
            "  417.60598684  551.66240401 4574.24128193  254.41217115 7913.07485889\n",
            " 4933.96002563 4315.02957796  495.17322827  855.11191214  210.48594074]\n"
          ],
          "name": "stdout"
        }
      ]
    },
    {
      "cell_type": "markdown",
      "metadata": {
        "id": "fjRrvb4uRpC2",
        "colab_type": "text"
      },
      "source": [
        "**Quiz4**\n",
        "\n"
      ]
    },
    {
      "cell_type": "code",
      "metadata": {
        "id": "NNgsBUXWRoun",
        "colab_type": "code",
        "colab": {}
      },
      "source": [
        "4. ทำเหมือนข้อ 3 แต่เขียนแบบ List comprehension"
      ],
      "execution_count": 0,
      "outputs": []
    },
    {
      "cell_type": "code",
      "metadata": {
        "id": "9ZH2MB1NRxm8",
        "colab_type": "code",
        "colab": {
          "base_uri": "https://localhost:8080/",
          "height": 156
        },
        "outputId": "731c876d-ea0a-4313-c0fd-5aa1c0c87268"
      },
      "source": [
        "arr20 = (np.random.rand(20)*(y-x)) + x\n",
        "power_2 = [i**2 for i in arr20]\n",
        "\n",
        "print('Random 20 numbers between 10 and 99\\n',arr20)\n",
        "#test reshape\n",
        "arr20.reshape(5,4)\n",
        "print('Then power of 2!\\n',power_2)"
      ],
      "execution_count": 15,
      "outputs": [
        {
          "output_type": "stream",
          "text": [
            "Random 20 numbers between 10 and 99\n",
            " [70.14891297 76.64154976 17.74213017 38.07606102 76.73570788 84.6578831\n",
            " 26.58698929 64.98545289 29.21856578 52.73984216 16.09249053 13.065134\n",
            " 98.78495447 53.77081383 31.18941301 59.25301327 97.61499865 41.7238175\n",
            " 61.82361347 27.48806318]\n",
            "Then power of 2!\n",
            " [4920.869990971865, 5873.927150299638, 314.78318282189053, 1449.7864227639332, 5888.36886374117, 7166.957170896574, 706.8679994515713, 4223.109087811666, 853.7245863438649, 2781.4909509652416, 258.9682515037461, 170.69772649889453, 9758.467229452783, 2891.3004198152266, 972.7794836482899, 3510.9195812579264, 9528.687960910327, 1740.8769463588546, 3822.1591823567414, 755.5936172268962]\n"
          ],
          "name": "stdout"
        }
      ]
    }
  ]
}