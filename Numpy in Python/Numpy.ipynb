{
  "nbformat": 4,
  "nbformat_minor": 0,
  "metadata": {
    "colab": {
      "name": "Numpy.ipynb",
      "provenance": [],
      "authorship_tag": "ABX9TyPGgSpcz73W2h3Rn94vrEzq"
    },
    "kernelspec": {
      "name": "python3",
      "display_name": "Python 3"
    }
  },
  "cells": [
    {
      "cell_type": "markdown",
      "metadata": {
        "id": "Z6ngygzCeaC3",
        "colab_type": "text"
      },
      "source": [
        "#To-do\n",
        "6. จงเขียน array ที่ใช้ฟังก์ชั่นใน numpy ได้เลข 10 ถึง 1000  \n",
        "\n",
        "7. จงเขียน array ที่ใช้ฟังก์ชั่นใน numpy ได้เลขคู่ 10 ถึง 2000 \n",
        "\n",
        "8. จงเขียน array ที่ใช้ฟังก์ชั่นใน numpy ได้เลขคี่ 12 ถึง 900\n",
        "\n",
        "9. จงสร้าง identity matrix แบบ 4x4\n",
        "\n",
        "10. จงหาว่า array ที่มีสมาชิก 100 ตัว เริ่มจาก 5 ถึง 25 มีผลต่างแต่ละตัวเท่ากับเท่าใด\n",
        "\n",
        "11. จงเขียนฟังก์ชั่น random ตัวเลขแบบ float ในช่วง 0-1 ขึ้นมา 1 ตัว\n",
        "\n",
        "12. จงเขียนฟังก์ชั่นที่ random ตัวเลขแบบ int ในช่วง 50-100 โดยให้อยู่ในรูป Matrix 4x4 และ Transpose\n",
        "\n",
        "13. ให้ array ที่กำหนด จงเขียนโค้ดที่เลือกเฉพาะ 8,9,13,14 \n",
        "\n",
        "14. ให้ array ที่กำหนด จงเขียนโค้ดที่เลือกเฉพาะ 18,19,20\n",
        "\n",
        "15. ให้ array ที่กำหนด จงเขียนโค้ดที่เลือกเฉพาะ 16,17,21,22\n",
        "\n",
        "16. ให้ array ที่กำหนด จงเขียนโค้ดที่เลือกทั้งแถว 3\n",
        "\n",
        "17. จงเขียนโค้ดที่ทำให้ได้ array นี้ออกมา\n",
        "\n",
        "18. จงเขียนโปรแกรมสุ่มเลขจำนวนเต็มในช่วง 10-100 ออกมาอยู่ใน matrix 5x5 และใช้ If-else เช็คทีละตัวว่าตัวใดบ้างที่มีค่ามากกว่า\n",
        "      50 และปริ้นออกมา\n",
        "\n",
        "19. จงเขียนโปรแกรมสุ่มเลขจำนวนเต็มในช่วง 10-100 ออกมาอยู่ใน matrix 5x5 และใช้ conditional selection เช็คว่าตัวใดบ้างมีค่า  \n",
        "      มากกว่า 40 นำมาใส่ List ที่สร้างใหม่ และปริ้นออกมา\n",
        "\n",
        "20. เขียนโปรแกรมรับค่าจากผู้ใช้ให้ป้อนเลข 9 ตัว แต่ละตัวต้องไม่ซ้ำกันและมีค่าอยู่ในช่วง 10-100 นำเลข 9 ตัวนั้นมาทำเป็น matrix \n",
        "      3x3 และ transport และหาเลขอยู่ตำแหน่งที่ (2,2)\n"
      ]
    },
    {
      "cell_type": "markdown",
      "metadata": {
        "id": "nqkBpz-JeSJi",
        "colab_type": "text"
      },
      "source": [
        "**Quiz1**\n",
        "\n",
        "จงเขียน array ที่มีแต่เลข 0 แบบ vector 10 ตัว และ แบบ Matrix 4x4"
      ]
    },
    {
      "cell_type": "code",
      "metadata": {
        "id": "fEd3Nlg3fEI1",
        "colab_type": "code",
        "colab": {}
      },
      "source": [
        "#run this cell first.\n",
        "import numpy as np\n",
        "import random"
      ],
      "execution_count": 0,
      "outputs": []
    },
    {
      "cell_type": "code",
      "metadata": {
        "id": "of7FgsxfK83f",
        "colab_type": "code",
        "outputId": "70693e55-9f49-4b40-c417-7d8f59e076c7",
        "colab": {
          "base_uri": "https://localhost:8080/",
          "height": 102
        }
      },
      "source": [
        "#Quiz1\n",
        "print(np.zeros(10))\n",
        "print(np.zeros((4,4)))"
      ],
      "execution_count": 0,
      "outputs": [
        {
          "output_type": "stream",
          "text": [
            "[0. 0. 0. 0. 0. 0. 0. 0. 0. 0.]\n",
            "[[0. 0. 0. 0.]\n",
            " [0. 0. 0. 0.]\n",
            " [0. 0. 0. 0.]\n",
            " [0. 0. 0. 0.]]\n"
          ],
          "name": "stdout"
        }
      ]
    },
    {
      "cell_type": "markdown",
      "metadata": {
        "id": "BND57VGXfGyG",
        "colab_type": "text"
      },
      "source": [
        "**Quiz2**\n",
        "\n",
        "จงเขียน array ที่มีแต่เลข 1 แบบ vector 5 ตัว และ แบบ Matrix 3x3"
      ]
    },
    {
      "cell_type": "code",
      "metadata": {
        "id": "7UV7QxSJfJNk",
        "colab_type": "code",
        "outputId": "a6f392b5-cab8-4074-bd5d-ea2f9ef6f408",
        "colab": {
          "base_uri": "https://localhost:8080/",
          "height": 85
        }
      },
      "source": [
        "#Quiz2\n",
        "print(np.ones(5))\n",
        "print(np.ones((3,3)))"
      ],
      "execution_count": 0,
      "outputs": [
        {
          "output_type": "stream",
          "text": [
            "[1. 1. 1. 1. 1.]\n",
            "[[1. 1. 1.]\n",
            " [1. 1. 1.]\n",
            " [1. 1. 1.]]\n"
          ],
          "name": "stdout"
        }
      ]
    },
    {
      "cell_type": "markdown",
      "metadata": {
        "id": "XsdCRBNyfqc2",
        "colab_type": "text"
      },
      "source": [
        "**Quiz3**\n",
        "\n",
        "จงเขียน array ที่มีเป็นการ random ตัวเลข 20 ตัว แบบ float ค่าอยู่ในช่วง 10-99 แล้วนำแต่ละเลขยกกำลังสอง"
      ]
    },
    {
      "cell_type": "code",
      "metadata": {
        "id": "Z6Faj6aVRQ9K",
        "colab_type": "code",
        "colab": {
          "base_uri": "https://localhost:8080/",
          "height": 187
        },
        "outputId": "a523b1d9-d238-4ddb-8ce8-53a380894aaf"
      },
      "source": [
        "#Quiz3\n",
        "#test\n",
        "rand_id1 = np.random.uniform(10,100,20)\n",
        "print('Random 20 numbers between 10 and 99\\n',rand_id1)\n",
        "print('Then power of 2!\\n',rand_id1**2)"
      ],
      "execution_count": 33,
      "outputs": [
        {
          "output_type": "stream",
          "text": [
            "Random 20 numbers between 10 and 99\n",
            " [80.59422824 31.91214393 66.83840975 44.74371363 20.09628557 69.80145105\n",
            " 91.0896967  28.24413137 33.95819725 85.47090264 76.22851334 57.53837388\n",
            " 82.86449829 15.59566516 85.27242036 41.46969777 24.98594898 88.6774883\n",
            " 60.96552916 76.63057781]\n",
            "Then power of 2!\n",
            " [6495.42962489 1018.38493028 4467.37301768 2001.99990905  403.86069365\n",
            " 4872.24256866 8297.33284574  797.73095702 1153.15916077 7305.27519768\n",
            " 5810.78624556 3310.66446923 6866.52507731  243.2247718  7271.38567417\n",
            " 1719.73583299  624.29764668 7863.6969318  3716.79574529 5872.24545497]\n"
          ],
          "name": "stdout"
        }
      ]
    },
    {
      "cell_type": "code",
      "metadata": {
        "id": "COZbCtvmfsaW",
        "colab_type": "code",
        "outputId": "83cba209-c5e8-4fa8-938d-6c4b27636a33",
        "colab": {
          "base_uri": "https://localhost:8080/",
          "height": 187
        }
      },
      "source": [
        "#Quiz3\n",
        "x, y = 10, 99\n",
        "rand20 = (np.random.rand(20)*(y-x)) + x\n",
        "power2 = rand20 ** 2\n",
        "print('Random 20 numbers between 10 and 99\\n',rand20)\n",
        "print('Then power of 2!\\n',power2)"
      ],
      "execution_count": 5,
      "outputs": [
        {
          "output_type": "stream",
          "text": [
            "Random 20 numbers between 10 and 99\n",
            " [33.50362632 41.3039099  58.60449497 35.77145477 90.52483258 74.05057647\n",
            " 98.70658265 41.40788944 77.31012226 51.81193913 20.43541012 23.48749463\n",
            " 67.63313745 15.95030317 88.95546559 70.24215277 65.68888474 22.25248814\n",
            " 29.24229663 14.50813361]\n",
            "Then power of 2!\n",
            " [1122.49297661 1706.01297319 3434.48683084 1279.59697641 8194.74531297\n",
            " 5483.48787518 9742.98945924 1714.61330785 5976.85500381 2684.47703668\n",
            "  417.60598684  551.66240401 4574.24128193  254.41217115 7913.07485889\n",
            " 4933.96002563 4315.02957796  495.17322827  855.11191214  210.48594074]\n"
          ],
          "name": "stdout"
        }
      ]
    },
    {
      "cell_type": "markdown",
      "metadata": {
        "id": "fjRrvb4uRpC2",
        "colab_type": "text"
      },
      "source": [
        "**Quiz4**\n",
        "\n",
        "ทำเหมือนข้อ 3 แต่เขียนแบบ List comprehension"
      ]
    },
    {
      "cell_type": "code",
      "metadata": {
        "id": "0xsgonfy8KMU",
        "colab_type": "code",
        "colab": {}
      },
      "source": [
        "import array as arr"
      ],
      "execution_count": 0,
      "outputs": []
    },
    {
      "cell_type": "code",
      "metadata": {
        "id": "9ZH2MB1NRxm8",
        "colab_type": "code",
        "colab": {
          "base_uri": "https://localhost:8080/",
          "height": 105
        },
        "outputId": "b2e8fd26-57bd-422b-d6b9-09304c7558dc"
      },
      "source": [
        "#Quiz4\n",
        "rand_lst = []\n",
        "for i in range(20):\n",
        "    x = random.uniform(10,100)\n",
        "    rand_lst.append(x)\n",
        "y = arr.array('d',rand_lst)\n",
        "power_2 = [i**2 for i in y]\n",
        "\n",
        "print('Random 20 numbers between 10 and 99\\n',list(y))\n",
        "print('Then power of 2!\\n',power_2)"
      ],
      "execution_count": 70,
      "outputs": [
        {
          "output_type": "stream",
          "text": [
            "Random 20 numbers between 10 and 99\n",
            " [52.70200431493495, 27.36311463533096, 98.60823141329236, 94.45692310905007, 13.215932854891491, 70.73580700903833, 31.368030132034036, 19.236351869084384, 87.21198131729712, 93.0874733924627, 39.247847032946154, 64.83384972494089, 37.138246033948185, 53.08677467287653, 35.138225296613484, 15.689654598740482, 56.84223743862394, 40.01142155051076, 45.89139585834525, 47.02561039135864]\n",
            "Then power of 2!\n",
            " [2777.5012588114223, 748.7400425462633, 9723.583302457419, 8922.110323228997, 174.66088122500037, 5003.554393219915, 983.9533143641952, 370.03723323122625, 7605.929685288581, 8665.277702592452, 1540.3934967215403, 4203.428070156218, 1379.249318478068, 2818.205645168765, 1234.6948769955677, 246.16526142777835, 3231.039957028901, 1600.913854492677, 2106.0202138273476, 2211.4080326798576]\n"
          ],
          "name": "stdout"
        }
      ]
    },
    {
      "cell_type": "code",
      "metadata": {
        "id": "RmFd2I7Hy9Gx",
        "colab_type": "code",
        "colab": {
          "base_uri": "https://localhost:8080/",
          "height": 156
        },
        "outputId": "ccd9f533-cff3-4065-fb1e-d4e0018d1b21"
      },
      "source": [
        "#test\n",
        "rand_lst2 = np.random.uniform(10,100,20)\n",
        "power_2 = [i**2 for i in rand_lst2]\n",
        "\n",
        "print('Random 20 numbers between 10 and 99\\n',rand_lst2)\n",
        "print('Then power of 2!\\n',power_2)\n"
      ],
      "execution_count": 49,
      "outputs": [
        {
          "output_type": "stream",
          "text": [
            "Random 20 numbers between 10 and 99\n",
            " [52.44027037 37.53286109 13.46652399 47.36304194 88.34374435 92.2708094\n",
            " 98.68479504 64.85738523 56.48267243 86.1661702  32.59087126 14.93592569\n",
            " 10.50218181 35.64923408 38.72449765 50.71802949 58.08278835 88.87419911\n",
            " 49.25504947 20.44413292]\n",
            "Then power of 2!\n",
            " [2749.9819563452734, 1408.715661634146, 181.34726837864406, 2243.257741730497, 7804.617165524886, 8513.902267046746, 9738.688772857075, 4206.480419039017, 3190.2922845405947, 7424.608887235089, 1062.1648894339357, 223.08187610521261, 110.2958226917081, 1270.8678904743865, 1499.5867181557107, 2572.318515564471, 3373.6103020567953, 7898.623267958072, 2426.059897918432, 417.9625707205596]\n"
          ],
          "name": "stdout"
        }
      ]
    },
    {
      "cell_type": "markdown",
      "metadata": {
        "id": "PKue_5dqmI94",
        "colab_type": "text"
      },
      "source": [
        " **Quiz5**\n",
        "\n",
        " นำข้อ 3 และ 4 มาเปรียบเวลากัน โดยใช้ฟังก์ชั่น time.time( ) เพื่อจับเวลา แสดงผลลัพธ์ในรูปแบบมิลลิวินาที"
      ]
    },
    {
      "cell_type": "code",
      "metadata": {
        "id": "UMDTR7cSmPq9",
        "colab_type": "code",
        "colab": {
          "base_uri": "https://localhost:8080/",
          "height": 51
        },
        "outputId": "7d9f143c-9eec-47df-8299-a39300c08c9d"
      },
      "source": [
        "#Quiz5\n",
        "\n",
        "#checking time from Quiz3\n",
        "x, y = 10, 99\n",
        "rand20_power2 = ((np.random.rand(20)*(y-x)) + x) ** 2 \n",
        "%timeit -n1000 rand20_power2 \n",
        "\n",
        "\n",
        "#checking time from Quiz4\n",
        "#Quiz4\n",
        "rand_lst = []\n",
        "for i in range(20):\n",
        "    x = random.uniform(10,100)\n",
        "    rand_lst.append(x)\n",
        "y = arr.array('d',rand_lst)\n",
        "power_2 = [i**2 for i in list(y)]\n",
        "\n",
        "%timeit -n1000 power_2\n"
      ],
      "execution_count": 74,
      "outputs": [
        {
          "output_type": "stream",
          "text": [
            "1000 loops, best of 3: 17.9 ns per loop\n",
            "1000 loops, best of 3: 20.2 ns per loop\n"
          ],
          "name": "stdout"
        }
      ]
    }
  ]
}